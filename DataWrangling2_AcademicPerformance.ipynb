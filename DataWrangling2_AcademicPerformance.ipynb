{
  "nbformat": 4,
  "nbformat_minor": 0,
  "metadata": {
    "colab": {
      "name": "TC50_DSBDA_Assignment2.ipynb",
      "provenance": [],
      "collapsed_sections": []
    },
    "kernelspec": {
      "name": "python3",
      "display_name": "Python 3"
    },
    "language_info": {
      "name": "python"
    }
  },
  "cells": [
    {
      "cell_type": "markdown",
      "source": [
        "###Data Wrangling II\n",
        "Consider the “Academic performance” dataset of students (xAPI-\n",
        "Edu-Data.csv) and perform the following operations using Python.\n",
        "\n",
        "Scan all variables for missing values and inconsistencies. If there\n",
        "are missing values and/or inconsistencies, use any of the suitable\n",
        "techniques to deal with them.\n",
        "Scan all numeric variables for outliers. If there are outliers, use any\n",
        "of the suitable techniques to deal with them.\n",
        "Apply data transformations on at least one of the variables. The\n",
        "purpose of this transformation should be one of the following\n",
        "reasons: to change the scale for better understanding of the\n",
        "variable, to convert a non-linear relation into a linear one, or to\n",
        "decrease the skewness and convert the distribution into a normal\n",
        "distribution.\n",
        "Reason and document your approach properly."
      ],
      "metadata": {
        "id": "nF0sIUtSQzFl"
      }
    },
    {
      "cell_type": "markdown",
      "source": [
        "Importing required libraries"
      ],
      "metadata": {
        "id": "3FNuCl4qOoCv"
      }
    },
    {
      "cell_type": "code",
      "execution_count": null,
      "metadata": {
        "id": "42iy3HZ0s7Pz"
      },
      "outputs": [],
      "source": [
        "import pandas as pd\n",
        "import numpy as np"
      ]
    },
    {
      "cell_type": "markdown",
      "source": [
        "Loading dataset"
      ],
      "metadata": {
        "id": "wWK3M30KOuOU"
      }
    },
    {
      "cell_type": "code",
      "source": [
        "data=pd.read_csv('/content/drive/MyDrive/Dataset/xAPI-Edu-Data.csv')\n",
        "data"
      ],
      "metadata": {
        "id": "-flUcMEWustB",
        "colab": {
          "base_uri": "https://localhost:8080/",
          "height": 487
        },
        "outputId": "e6b46488-3768-4a61-8ee2-5c80a2ce0f02"
      },
      "execution_count": null,
      "outputs": [
        {
          "output_type": "execute_result",
          "data": {
            "text/plain": [
              "    gender NationalITy PlaceofBirth       StageID GradeID SectionID  \\\n",
              "0        M          KW       KuwaIT    lowerlevel    G-04         A   \n",
              "1        M          KW       KuwaIT    lowerlevel    G-04         A   \n",
              "2        M          KW       KuwaIT    lowerlevel    G-04         A   \n",
              "3        M          KW       KuwaIT    lowerlevel    G-04         A   \n",
              "4        M          KW       KuwaIT    lowerlevel    G-04         A   \n",
              "..     ...         ...          ...           ...     ...       ...   \n",
              "475      F      Jordan       Jordan  MiddleSchool    G-08         A   \n",
              "476      F      Jordan       Jordan  MiddleSchool    G-08         A   \n",
              "477      F      Jordan       Jordan  MiddleSchool    G-08         A   \n",
              "478      F      Jordan       Jordan  MiddleSchool    G-08         A   \n",
              "479      F      Jordan       Jordan  MiddleSchool    G-08         A   \n",
              "\n",
              "         Topic Semester Relation  raisedhands  VisITedResources  \\\n",
              "0           IT        F   Father         15.0              16.0   \n",
              "1           IT        F   Father         20.0              20.0   \n",
              "2           IT        F   Father         10.0               7.0   \n",
              "3           IT        F   Father         30.0               NaN   \n",
              "4           IT        F   Father          NaN              50.0   \n",
              "..         ...      ...      ...          ...               ...   \n",
              "475  Chemistry        S   Father          5.0               4.0   \n",
              "476    Geology        F   Father         50.0              77.0   \n",
              "477    Geology        S   Father         55.0              74.0   \n",
              "478    History        F   Father         30.0              17.0   \n",
              "479    History        S   Father         35.0              14.0   \n",
              "\n",
              "     AnnouncementsView  Discussion ParentAnsweringSurvey  \\\n",
              "0                  2.0          20                   Yes   \n",
              "1                  3.0          25                   Yes   \n",
              "2                  0.0          30                    No   \n",
              "3                  5.0          35                    No   \n",
              "4                 12.0          50                    No   \n",
              "..                 ...         ...                   ...   \n",
              "475                5.0           8                    No   \n",
              "476               14.0          28                    No   \n",
              "477               25.0          29                    No   \n",
              "478               14.0          57                    No   \n",
              "479               23.0          62                    No   \n",
              "\n",
              "    ParentschoolSatisfaction StudentAbsenceDays Class  \n",
              "0                       Good            Under-7     M  \n",
              "1                       Good            Under-7     M  \n",
              "2                        Bad            Above-7     L  \n",
              "3                        Bad            Above-7     L  \n",
              "4                        Bad            Above-7     M  \n",
              "..                       ...                ...   ...  \n",
              "475                      Bad            Above-7     L  \n",
              "476                      Bad            Under-7     M  \n",
              "477                      Bad            Under-7     M  \n",
              "478                      Bad            Above-7     L  \n",
              "479                      Bad            Above-7     L  \n",
              "\n",
              "[480 rows x 17 columns]"
            ],
            "text/html": [
              "\n",
              "  <div id=\"df-ec0e690d-bc3c-4edd-b7f2-a5cede47bc9c\">\n",
              "    <div class=\"colab-df-container\">\n",
              "      <div>\n",
              "<style scoped>\n",
              "    .dataframe tbody tr th:only-of-type {\n",
              "        vertical-align: middle;\n",
              "    }\n",
              "\n",
              "    .dataframe tbody tr th {\n",
              "        vertical-align: top;\n",
              "    }\n",
              "\n",
              "    .dataframe thead th {\n",
              "        text-align: right;\n",
              "    }\n",
              "</style>\n",
              "<table border=\"1\" class=\"dataframe\">\n",
              "  <thead>\n",
              "    <tr style=\"text-align: right;\">\n",
              "      <th></th>\n",
              "      <th>gender</th>\n",
              "      <th>NationalITy</th>\n",
              "      <th>PlaceofBirth</th>\n",
              "      <th>StageID</th>\n",
              "      <th>GradeID</th>\n",
              "      <th>SectionID</th>\n",
              "      <th>Topic</th>\n",
              "      <th>Semester</th>\n",
              "      <th>Relation</th>\n",
              "      <th>raisedhands</th>\n",
              "      <th>VisITedResources</th>\n",
              "      <th>AnnouncementsView</th>\n",
              "      <th>Discussion</th>\n",
              "      <th>ParentAnsweringSurvey</th>\n",
              "      <th>ParentschoolSatisfaction</th>\n",
              "      <th>StudentAbsenceDays</th>\n",
              "      <th>Class</th>\n",
              "    </tr>\n",
              "  </thead>\n",
              "  <tbody>\n",
              "    <tr>\n",
              "      <th>0</th>\n",
              "      <td>M</td>\n",
              "      <td>KW</td>\n",
              "      <td>KuwaIT</td>\n",
              "      <td>lowerlevel</td>\n",
              "      <td>G-04</td>\n",
              "      <td>A</td>\n",
              "      <td>IT</td>\n",
              "      <td>F</td>\n",
              "      <td>Father</td>\n",
              "      <td>15.0</td>\n",
              "      <td>16.0</td>\n",
              "      <td>2.0</td>\n",
              "      <td>20</td>\n",
              "      <td>Yes</td>\n",
              "      <td>Good</td>\n",
              "      <td>Under-7</td>\n",
              "      <td>M</td>\n",
              "    </tr>\n",
              "    <tr>\n",
              "      <th>1</th>\n",
              "      <td>M</td>\n",
              "      <td>KW</td>\n",
              "      <td>KuwaIT</td>\n",
              "      <td>lowerlevel</td>\n",
              "      <td>G-04</td>\n",
              "      <td>A</td>\n",
              "      <td>IT</td>\n",
              "      <td>F</td>\n",
              "      <td>Father</td>\n",
              "      <td>20.0</td>\n",
              "      <td>20.0</td>\n",
              "      <td>3.0</td>\n",
              "      <td>25</td>\n",
              "      <td>Yes</td>\n",
              "      <td>Good</td>\n",
              "      <td>Under-7</td>\n",
              "      <td>M</td>\n",
              "    </tr>\n",
              "    <tr>\n",
              "      <th>2</th>\n",
              "      <td>M</td>\n",
              "      <td>KW</td>\n",
              "      <td>KuwaIT</td>\n",
              "      <td>lowerlevel</td>\n",
              "      <td>G-04</td>\n",
              "      <td>A</td>\n",
              "      <td>IT</td>\n",
              "      <td>F</td>\n",
              "      <td>Father</td>\n",
              "      <td>10.0</td>\n",
              "      <td>7.0</td>\n",
              "      <td>0.0</td>\n",
              "      <td>30</td>\n",
              "      <td>No</td>\n",
              "      <td>Bad</td>\n",
              "      <td>Above-7</td>\n",
              "      <td>L</td>\n",
              "    </tr>\n",
              "    <tr>\n",
              "      <th>3</th>\n",
              "      <td>M</td>\n",
              "      <td>KW</td>\n",
              "      <td>KuwaIT</td>\n",
              "      <td>lowerlevel</td>\n",
              "      <td>G-04</td>\n",
              "      <td>A</td>\n",
              "      <td>IT</td>\n",
              "      <td>F</td>\n",
              "      <td>Father</td>\n",
              "      <td>30.0</td>\n",
              "      <td>NaN</td>\n",
              "      <td>5.0</td>\n",
              "      <td>35</td>\n",
              "      <td>No</td>\n",
              "      <td>Bad</td>\n",
              "      <td>Above-7</td>\n",
              "      <td>L</td>\n",
              "    </tr>\n",
              "    <tr>\n",
              "      <th>4</th>\n",
              "      <td>M</td>\n",
              "      <td>KW</td>\n",
              "      <td>KuwaIT</td>\n",
              "      <td>lowerlevel</td>\n",
              "      <td>G-04</td>\n",
              "      <td>A</td>\n",
              "      <td>IT</td>\n",
              "      <td>F</td>\n",
              "      <td>Father</td>\n",
              "      <td>NaN</td>\n",
              "      <td>50.0</td>\n",
              "      <td>12.0</td>\n",
              "      <td>50</td>\n",
              "      <td>No</td>\n",
              "      <td>Bad</td>\n",
              "      <td>Above-7</td>\n",
              "      <td>M</td>\n",
              "    </tr>\n",
              "    <tr>\n",
              "      <th>...</th>\n",
              "      <td>...</td>\n",
              "      <td>...</td>\n",
              "      <td>...</td>\n",
              "      <td>...</td>\n",
              "      <td>...</td>\n",
              "      <td>...</td>\n",
              "      <td>...</td>\n",
              "      <td>...</td>\n",
              "      <td>...</td>\n",
              "      <td>...</td>\n",
              "      <td>...</td>\n",
              "      <td>...</td>\n",
              "      <td>...</td>\n",
              "      <td>...</td>\n",
              "      <td>...</td>\n",
              "      <td>...</td>\n",
              "      <td>...</td>\n",
              "    </tr>\n",
              "    <tr>\n",
              "      <th>475</th>\n",
              "      <td>F</td>\n",
              "      <td>Jordan</td>\n",
              "      <td>Jordan</td>\n",
              "      <td>MiddleSchool</td>\n",
              "      <td>G-08</td>\n",
              "      <td>A</td>\n",
              "      <td>Chemistry</td>\n",
              "      <td>S</td>\n",
              "      <td>Father</td>\n",
              "      <td>5.0</td>\n",
              "      <td>4.0</td>\n",
              "      <td>5.0</td>\n",
              "      <td>8</td>\n",
              "      <td>No</td>\n",
              "      <td>Bad</td>\n",
              "      <td>Above-7</td>\n",
              "      <td>L</td>\n",
              "    </tr>\n",
              "    <tr>\n",
              "      <th>476</th>\n",
              "      <td>F</td>\n",
              "      <td>Jordan</td>\n",
              "      <td>Jordan</td>\n",
              "      <td>MiddleSchool</td>\n",
              "      <td>G-08</td>\n",
              "      <td>A</td>\n",
              "      <td>Geology</td>\n",
              "      <td>F</td>\n",
              "      <td>Father</td>\n",
              "      <td>50.0</td>\n",
              "      <td>77.0</td>\n",
              "      <td>14.0</td>\n",
              "      <td>28</td>\n",
              "      <td>No</td>\n",
              "      <td>Bad</td>\n",
              "      <td>Under-7</td>\n",
              "      <td>M</td>\n",
              "    </tr>\n",
              "    <tr>\n",
              "      <th>477</th>\n",
              "      <td>F</td>\n",
              "      <td>Jordan</td>\n",
              "      <td>Jordan</td>\n",
              "      <td>MiddleSchool</td>\n",
              "      <td>G-08</td>\n",
              "      <td>A</td>\n",
              "      <td>Geology</td>\n",
              "      <td>S</td>\n",
              "      <td>Father</td>\n",
              "      <td>55.0</td>\n",
              "      <td>74.0</td>\n",
              "      <td>25.0</td>\n",
              "      <td>29</td>\n",
              "      <td>No</td>\n",
              "      <td>Bad</td>\n",
              "      <td>Under-7</td>\n",
              "      <td>M</td>\n",
              "    </tr>\n",
              "    <tr>\n",
              "      <th>478</th>\n",
              "      <td>F</td>\n",
              "      <td>Jordan</td>\n",
              "      <td>Jordan</td>\n",
              "      <td>MiddleSchool</td>\n",
              "      <td>G-08</td>\n",
              "      <td>A</td>\n",
              "      <td>History</td>\n",
              "      <td>F</td>\n",
              "      <td>Father</td>\n",
              "      <td>30.0</td>\n",
              "      <td>17.0</td>\n",
              "      <td>14.0</td>\n",
              "      <td>57</td>\n",
              "      <td>No</td>\n",
              "      <td>Bad</td>\n",
              "      <td>Above-7</td>\n",
              "      <td>L</td>\n",
              "    </tr>\n",
              "    <tr>\n",
              "      <th>479</th>\n",
              "      <td>F</td>\n",
              "      <td>Jordan</td>\n",
              "      <td>Jordan</td>\n",
              "      <td>MiddleSchool</td>\n",
              "      <td>G-08</td>\n",
              "      <td>A</td>\n",
              "      <td>History</td>\n",
              "      <td>S</td>\n",
              "      <td>Father</td>\n",
              "      <td>35.0</td>\n",
              "      <td>14.0</td>\n",
              "      <td>23.0</td>\n",
              "      <td>62</td>\n",
              "      <td>No</td>\n",
              "      <td>Bad</td>\n",
              "      <td>Above-7</td>\n",
              "      <td>L</td>\n",
              "    </tr>\n",
              "  </tbody>\n",
              "</table>\n",
              "<p>480 rows × 17 columns</p>\n",
              "</div>\n",
              "      <button class=\"colab-df-convert\" onclick=\"convertToInteractive('df-ec0e690d-bc3c-4edd-b7f2-a5cede47bc9c')\"\n",
              "              title=\"Convert this dataframe to an interactive table.\"\n",
              "              style=\"display:none;\">\n",
              "        \n",
              "  <svg xmlns=\"http://www.w3.org/2000/svg\" height=\"24px\"viewBox=\"0 0 24 24\"\n",
              "       width=\"24px\">\n",
              "    <path d=\"M0 0h24v24H0V0z\" fill=\"none\"/>\n",
              "    <path d=\"M18.56 5.44l.94 2.06.94-2.06 2.06-.94-2.06-.94-.94-2.06-.94 2.06-2.06.94zm-11 1L8.5 8.5l.94-2.06 2.06-.94-2.06-.94L8.5 2.5l-.94 2.06-2.06.94zm10 10l.94 2.06.94-2.06 2.06-.94-2.06-.94-.94-2.06-.94 2.06-2.06.94z\"/><path d=\"M17.41 7.96l-1.37-1.37c-.4-.4-.92-.59-1.43-.59-.52 0-1.04.2-1.43.59L10.3 9.45l-7.72 7.72c-.78.78-.78 2.05 0 2.83L4 21.41c.39.39.9.59 1.41.59.51 0 1.02-.2 1.41-.59l7.78-7.78 2.81-2.81c.8-.78.8-2.07 0-2.86zM5.41 20L4 18.59l7.72-7.72 1.47 1.35L5.41 20z\"/>\n",
              "  </svg>\n",
              "      </button>\n",
              "      \n",
              "  <style>\n",
              "    .colab-df-container {\n",
              "      display:flex;\n",
              "      flex-wrap:wrap;\n",
              "      gap: 12px;\n",
              "    }\n",
              "\n",
              "    .colab-df-convert {\n",
              "      background-color: #E8F0FE;\n",
              "      border: none;\n",
              "      border-radius: 50%;\n",
              "      cursor: pointer;\n",
              "      display: none;\n",
              "      fill: #1967D2;\n",
              "      height: 32px;\n",
              "      padding: 0 0 0 0;\n",
              "      width: 32px;\n",
              "    }\n",
              "\n",
              "    .colab-df-convert:hover {\n",
              "      background-color: #E2EBFA;\n",
              "      box-shadow: 0px 1px 2px rgba(60, 64, 67, 0.3), 0px 1px 3px 1px rgba(60, 64, 67, 0.15);\n",
              "      fill: #174EA6;\n",
              "    }\n",
              "\n",
              "    [theme=dark] .colab-df-convert {\n",
              "      background-color: #3B4455;\n",
              "      fill: #D2E3FC;\n",
              "    }\n",
              "\n",
              "    [theme=dark] .colab-df-convert:hover {\n",
              "      background-color: #434B5C;\n",
              "      box-shadow: 0px 1px 3px 1px rgba(0, 0, 0, 0.15);\n",
              "      filter: drop-shadow(0px 1px 2px rgba(0, 0, 0, 0.3));\n",
              "      fill: #FFFFFF;\n",
              "    }\n",
              "  </style>\n",
              "\n",
              "      <script>\n",
              "        const buttonEl =\n",
              "          document.querySelector('#df-ec0e690d-bc3c-4edd-b7f2-a5cede47bc9c button.colab-df-convert');\n",
              "        buttonEl.style.display =\n",
              "          google.colab.kernel.accessAllowed ? 'block' : 'none';\n",
              "\n",
              "        async function convertToInteractive(key) {\n",
              "          const element = document.querySelector('#df-ec0e690d-bc3c-4edd-b7f2-a5cede47bc9c');\n",
              "          const dataTable =\n",
              "            await google.colab.kernel.invokeFunction('convertToInteractive',\n",
              "                                                     [key], {});\n",
              "          if (!dataTable) return;\n",
              "\n",
              "          const docLinkHtml = 'Like what you see? Visit the ' +\n",
              "            '<a target=\"_blank\" href=https://colab.research.google.com/notebooks/data_table.ipynb>data table notebook</a>'\n",
              "            + ' to learn more about interactive tables.';\n",
              "          element.innerHTML = '';\n",
              "          dataTable['output_type'] = 'display_data';\n",
              "          await google.colab.output.renderOutput(dataTable, element);\n",
              "          const docLink = document.createElement('div');\n",
              "          docLink.innerHTML = docLinkHtml;\n",
              "          element.appendChild(docLink);\n",
              "        }\n",
              "      </script>\n",
              "    </div>\n",
              "  </div>\n",
              "  "
            ]
          },
          "metadata": {},
          "execution_count": 6
        }
      ]
    },
    {
      "cell_type": "markdown",
      "source": [
        "Statistics of the dataset"
      ],
      "metadata": {
        "id": "z1qjgdphPJ_5"
      }
    },
    {
      "cell_type": "code",
      "source": [
        "data.describe()"
      ],
      "metadata": {
        "colab": {
          "base_uri": "https://localhost:8080/",
          "height": 300
        },
        "id": "AtXq8PxsO7U_",
        "outputId": "aecf7555-0b79-44d9-94cf-9a35e73e6a57"
      },
      "execution_count": null,
      "outputs": [
        {
          "output_type": "execute_result",
          "data": {
            "text/plain": [
              "       raisedhands  VisITedResources  AnnouncementsView  Discussion\n",
              "count   460.000000        476.000000         469.000000  480.000000\n",
              "mean     46.708696         54.701681          37.897655   43.283333\n",
              "std      30.919425         33.111157          26.673520   27.637735\n",
              "min       0.000000          0.000000           0.000000    1.000000\n",
              "25%      15.000000         20.000000          14.000000   20.000000\n",
              "50%      50.000000         65.000000          33.000000   39.000000\n",
              "75%      75.000000         84.000000          58.000000   70.000000\n",
              "max     100.000000         99.000000          98.000000   99.000000"
            ],
            "text/html": [
              "\n",
              "  <div id=\"df-2f728a45-d484-498a-9bfe-da1b8944d1ba\">\n",
              "    <div class=\"colab-df-container\">\n",
              "      <div>\n",
              "<style scoped>\n",
              "    .dataframe tbody tr th:only-of-type {\n",
              "        vertical-align: middle;\n",
              "    }\n",
              "\n",
              "    .dataframe tbody tr th {\n",
              "        vertical-align: top;\n",
              "    }\n",
              "\n",
              "    .dataframe thead th {\n",
              "        text-align: right;\n",
              "    }\n",
              "</style>\n",
              "<table border=\"1\" class=\"dataframe\">\n",
              "  <thead>\n",
              "    <tr style=\"text-align: right;\">\n",
              "      <th></th>\n",
              "      <th>raisedhands</th>\n",
              "      <th>VisITedResources</th>\n",
              "      <th>AnnouncementsView</th>\n",
              "      <th>Discussion</th>\n",
              "    </tr>\n",
              "  </thead>\n",
              "  <tbody>\n",
              "    <tr>\n",
              "      <th>count</th>\n",
              "      <td>460.000000</td>\n",
              "      <td>476.000000</td>\n",
              "      <td>469.000000</td>\n",
              "      <td>480.000000</td>\n",
              "    </tr>\n",
              "    <tr>\n",
              "      <th>mean</th>\n",
              "      <td>46.708696</td>\n",
              "      <td>54.701681</td>\n",
              "      <td>37.897655</td>\n",
              "      <td>43.283333</td>\n",
              "    </tr>\n",
              "    <tr>\n",
              "      <th>std</th>\n",
              "      <td>30.919425</td>\n",
              "      <td>33.111157</td>\n",
              "      <td>26.673520</td>\n",
              "      <td>27.637735</td>\n",
              "    </tr>\n",
              "    <tr>\n",
              "      <th>min</th>\n",
              "      <td>0.000000</td>\n",
              "      <td>0.000000</td>\n",
              "      <td>0.000000</td>\n",
              "      <td>1.000000</td>\n",
              "    </tr>\n",
              "    <tr>\n",
              "      <th>25%</th>\n",
              "      <td>15.000000</td>\n",
              "      <td>20.000000</td>\n",
              "      <td>14.000000</td>\n",
              "      <td>20.000000</td>\n",
              "    </tr>\n",
              "    <tr>\n",
              "      <th>50%</th>\n",
              "      <td>50.000000</td>\n",
              "      <td>65.000000</td>\n",
              "      <td>33.000000</td>\n",
              "      <td>39.000000</td>\n",
              "    </tr>\n",
              "    <tr>\n",
              "      <th>75%</th>\n",
              "      <td>75.000000</td>\n",
              "      <td>84.000000</td>\n",
              "      <td>58.000000</td>\n",
              "      <td>70.000000</td>\n",
              "    </tr>\n",
              "    <tr>\n",
              "      <th>max</th>\n",
              "      <td>100.000000</td>\n",
              "      <td>99.000000</td>\n",
              "      <td>98.000000</td>\n",
              "      <td>99.000000</td>\n",
              "    </tr>\n",
              "  </tbody>\n",
              "</table>\n",
              "</div>\n",
              "      <button class=\"colab-df-convert\" onclick=\"convertToInteractive('df-2f728a45-d484-498a-9bfe-da1b8944d1ba')\"\n",
              "              title=\"Convert this dataframe to an interactive table.\"\n",
              "              style=\"display:none;\">\n",
              "        \n",
              "  <svg xmlns=\"http://www.w3.org/2000/svg\" height=\"24px\"viewBox=\"0 0 24 24\"\n",
              "       width=\"24px\">\n",
              "    <path d=\"M0 0h24v24H0V0z\" fill=\"none\"/>\n",
              "    <path d=\"M18.56 5.44l.94 2.06.94-2.06 2.06-.94-2.06-.94-.94-2.06-.94 2.06-2.06.94zm-11 1L8.5 8.5l.94-2.06 2.06-.94-2.06-.94L8.5 2.5l-.94 2.06-2.06.94zm10 10l.94 2.06.94-2.06 2.06-.94-2.06-.94-.94-2.06-.94 2.06-2.06.94z\"/><path d=\"M17.41 7.96l-1.37-1.37c-.4-.4-.92-.59-1.43-.59-.52 0-1.04.2-1.43.59L10.3 9.45l-7.72 7.72c-.78.78-.78 2.05 0 2.83L4 21.41c.39.39.9.59 1.41.59.51 0 1.02-.2 1.41-.59l7.78-7.78 2.81-2.81c.8-.78.8-2.07 0-2.86zM5.41 20L4 18.59l7.72-7.72 1.47 1.35L5.41 20z\"/>\n",
              "  </svg>\n",
              "      </button>\n",
              "      \n",
              "  <style>\n",
              "    .colab-df-container {\n",
              "      display:flex;\n",
              "      flex-wrap:wrap;\n",
              "      gap: 12px;\n",
              "    }\n",
              "\n",
              "    .colab-df-convert {\n",
              "      background-color: #E8F0FE;\n",
              "      border: none;\n",
              "      border-radius: 50%;\n",
              "      cursor: pointer;\n",
              "      display: none;\n",
              "      fill: #1967D2;\n",
              "      height: 32px;\n",
              "      padding: 0 0 0 0;\n",
              "      width: 32px;\n",
              "    }\n",
              "\n",
              "    .colab-df-convert:hover {\n",
              "      background-color: #E2EBFA;\n",
              "      box-shadow: 0px 1px 2px rgba(60, 64, 67, 0.3), 0px 1px 3px 1px rgba(60, 64, 67, 0.15);\n",
              "      fill: #174EA6;\n",
              "    }\n",
              "\n",
              "    [theme=dark] .colab-df-convert {\n",
              "      background-color: #3B4455;\n",
              "      fill: #D2E3FC;\n",
              "    }\n",
              "\n",
              "    [theme=dark] .colab-df-convert:hover {\n",
              "      background-color: #434B5C;\n",
              "      box-shadow: 0px 1px 3px 1px rgba(0, 0, 0, 0.15);\n",
              "      filter: drop-shadow(0px 1px 2px rgba(0, 0, 0, 0.3));\n",
              "      fill: #FFFFFF;\n",
              "    }\n",
              "  </style>\n",
              "\n",
              "      <script>\n",
              "        const buttonEl =\n",
              "          document.querySelector('#df-2f728a45-d484-498a-9bfe-da1b8944d1ba button.colab-df-convert');\n",
              "        buttonEl.style.display =\n",
              "          google.colab.kernel.accessAllowed ? 'block' : 'none';\n",
              "\n",
              "        async function convertToInteractive(key) {\n",
              "          const element = document.querySelector('#df-2f728a45-d484-498a-9bfe-da1b8944d1ba');\n",
              "          const dataTable =\n",
              "            await google.colab.kernel.invokeFunction('convertToInteractive',\n",
              "                                                     [key], {});\n",
              "          if (!dataTable) return;\n",
              "\n",
              "          const docLinkHtml = 'Like what you see? Visit the ' +\n",
              "            '<a target=\"_blank\" href=https://colab.research.google.com/notebooks/data_table.ipynb>data table notebook</a>'\n",
              "            + ' to learn more about interactive tables.';\n",
              "          element.innerHTML = '';\n",
              "          dataTable['output_type'] = 'display_data';\n",
              "          await google.colab.output.renderOutput(dataTable, element);\n",
              "          const docLink = document.createElement('div');\n",
              "          docLink.innerHTML = docLinkHtml;\n",
              "          element.appendChild(docLink);\n",
              "        }\n",
              "      </script>\n",
              "    </div>\n",
              "  </div>\n",
              "  "
            ]
          },
          "metadata": {},
          "execution_count": 7
        }
      ]
    },
    {
      "cell_type": "markdown",
      "source": [
        "Checking for missing values in the dataset"
      ],
      "metadata": {
        "id": "WnKFo4usPiJ0"
      }
    },
    {
      "cell_type": "code",
      "source": [
        "missing_values = data.isnull().sum()\n",
        "missing_values"
      ],
      "metadata": {
        "colab": {
          "base_uri": "https://localhost:8080/"
        },
        "id": "ii4o0-bvO7RS",
        "outputId": "593fc4a1-d98f-43a2-a46f-d15cb009e42d"
      },
      "execution_count": null,
      "outputs": [
        {
          "output_type": "execute_result",
          "data": {
            "text/plain": [
              "gender                       0\n",
              "NationalITy                  0\n",
              "PlaceofBirth                 0\n",
              "StageID                      0\n",
              "GradeID                      0\n",
              "SectionID                    0\n",
              "Topic                       10\n",
              "Semester                     0\n",
              "Relation                    15\n",
              "raisedhands                 20\n",
              "VisITedResources             4\n",
              "AnnouncementsView           11\n",
              "Discussion                   0\n",
              "ParentAnsweringSurvey        0\n",
              "ParentschoolSatisfaction     5\n",
              "StudentAbsenceDays           5\n",
              "Class                       13\n",
              "dtype: int64"
            ]
          },
          "metadata": {},
          "execution_count": 8
        }
      ]
    },
    {
      "cell_type": "code",
      "source": [
        "missing_percentage = 100*missing_values/len(data)\n",
        "missing_percentage"
      ],
      "metadata": {
        "colab": {
          "base_uri": "https://localhost:8080/"
        },
        "id": "5rWgfHU1O7PZ",
        "outputId": "851b316f-5d19-4dec-d84f-deae643c5eb7"
      },
      "execution_count": null,
      "outputs": [
        {
          "output_type": "execute_result",
          "data": {
            "text/plain": [
              "gender                      0.000000\n",
              "NationalITy                 0.000000\n",
              "PlaceofBirth                0.000000\n",
              "StageID                     0.000000\n",
              "GradeID                     0.000000\n",
              "SectionID                   0.000000\n",
              "Topic                       2.083333\n",
              "Semester                    0.000000\n",
              "Relation                    3.125000\n",
              "raisedhands                 4.166667\n",
              "VisITedResources            0.833333\n",
              "AnnouncementsView           2.291667\n",
              "Discussion                  0.000000\n",
              "ParentAnsweringSurvey       0.000000\n",
              "ParentschoolSatisfaction    1.041667\n",
              "StudentAbsenceDays          1.041667\n",
              "Class                       2.708333\n",
              "dtype: float64"
            ]
          },
          "metadata": {},
          "execution_count": 10
        }
      ]
    },
    {
      "cell_type": "markdown",
      "source": [
        "##Dealing with null values in the dataset"
      ],
      "metadata": {
        "id": "_YPXBniFyaSO"
      }
    },
    {
      "cell_type": "markdown",
      "source": [
        "Dealing with null values in numerical variables\n",
        "\n",
        "Here we have 3 numerical data variables:\n",
        "\n",
        "1.raisedhands\n",
        "\n",
        "2.VisITedResources\n",
        "\n",
        "3.AnnouncementsView"
      ],
      "metadata": {
        "id": "ZVMQ83hwwmll"
      }
    },
    {
      "cell_type": "markdown",
      "source": [
        "Replacing null values in by mean values"
      ],
      "metadata": {
        "id": "v-z8b2FctiZa"
      }
    },
    {
      "cell_type": "code",
      "source": [
        "x = data['VisITedResources'].mean()\n",
        "data['VisITedResources'] = data['VisITedResources'].replace(np.NaN,round(x))\n",
        "data['VisITedResources'].isnull().sum()"
      ],
      "metadata": {
        "colab": {
          "base_uri": "https://localhost:8080/"
        },
        "id": "A7NCk6QhO65O",
        "outputId": "4e6b3510-3963-4470-b899-84af9e569be4"
      },
      "execution_count": null,
      "outputs": [
        {
          "output_type": "execute_result",
          "data": {
            "text/plain": [
              "0"
            ]
          },
          "metadata": {},
          "execution_count": 15
        }
      ]
    },
    {
      "cell_type": "code",
      "source": [
        "data['raisedhands'] = data['raisedhands'].replace(np.NaN,data['raisedhands'].mean())\n",
        "data['raisedhands'].isnull().sum()"
      ],
      "metadata": {
        "colab": {
          "base_uri": "https://localhost:8080/"
        },
        "id": "IgH6npScO7Gp",
        "outputId": "93e15dda-13f2-4076-d904-d64d272808a8"
      },
      "execution_count": null,
      "outputs": [
        {
          "output_type": "execute_result",
          "data": {
            "text/plain": [
              "0"
            ]
          },
          "metadata": {},
          "execution_count": 14
        }
      ]
    },
    {
      "cell_type": "code",
      "source": [
        "data['AnnouncementsView'] = data['AnnouncementsView'].replace(np.NaN,data['AnnouncementsView'].mean())\n",
        "data['AnnouncementsView'].isnull().sum()"
      ],
      "metadata": {
        "colab": {
          "base_uri": "https://localhost:8080/"
        },
        "id": "H79zgD5TO7KG",
        "outputId": "058841ed-a346-4034-a3ba-5a3131a018a7"
      },
      "execution_count": null,
      "outputs": [
        {
          "output_type": "execute_result",
          "data": {
            "text/plain": [
              "0"
            ]
          },
          "metadata": {},
          "execution_count": 12
        }
      ]
    },
    {
      "cell_type": "markdown",
      "source": [
        "Dealing with null values in categorical variables\n",
        "\n",
        "Here we have 5 categorical variables having null values:\n",
        "\n",
        "1.Topic\n",
        "\n",
        "2.Relation\n",
        "\n",
        "3.ParentschoolSatisfaction\n",
        "\n",
        "4.StudentAbsenceDays\n",
        "\n",
        "5.Class"
      ],
      "metadata": {
        "id": "PlWDOC1pxW47"
      }
    },
    {
      "cell_type": "code",
      "source": [
        "from sklearn.impute import SimpleImputer"
      ],
      "metadata": {
        "id": "nhCj8wAVzyn4"
      },
      "execution_count": null,
      "outputs": []
    },
    {
      "cell_type": "markdown",
      "source": [
        "Imputing null values in Topic, ParentschoolSatisfaction and Class by most_frequent values in these variables"
      ],
      "metadata": {
        "id": "aiBITis-ysjP"
      }
    },
    {
      "cell_type": "code",
      "source": [
        "\n",
        "impute1 = SimpleImputer(strategy='most_frequent',missing_values=np.NaN)\n",
        "data['Topic'] = impute1.fit_transform(data[['Topic']])\n",
        "data['Topic'].isnull().sum()"
      ],
      "metadata": {
        "colab": {
          "base_uri": "https://localhost:8080/"
        },
        "id": "C8z8XHqiO7Eo",
        "outputId": "9847aa60-65e6-4bd6-bd01-56d497015bf3"
      },
      "execution_count": null,
      "outputs": [
        {
          "output_type": "execute_result",
          "data": {
            "text/plain": [
              "0"
            ]
          },
          "metadata": {},
          "execution_count": 18
        }
      ]
    },
    {
      "cell_type": "code",
      "source": [
        "impute2 = SimpleImputer(strategy='most_frequent',missing_values=np.NaN)\n",
        "data['ParentschoolSatisfaction'] = impute2.fit_transform(data[['ParentschoolSatisfaction']])\n",
        "data['ParentschoolSatisfaction'].isnull().sum()"
      ],
      "metadata": {
        "colab": {
          "base_uri": "https://localhost:8080/"
        },
        "id": "NkunKC3cO6_A",
        "outputId": "efe311d4-f3f2-44bf-aefb-d58884d9b97d"
      },
      "execution_count": null,
      "outputs": [
        {
          "output_type": "execute_result",
          "data": {
            "text/plain": [
              "0"
            ]
          },
          "metadata": {},
          "execution_count": 19
        }
      ]
    },
    {
      "cell_type": "code",
      "source": [
        "impute3 = SimpleImputer(strategy='most_frequent',missing_values=np.NaN)\n",
        "data['Class'] = impute3.fit_transform(data[['Class']])\n",
        "data['Class'].isnull().sum()"
      ],
      "metadata": {
        "colab": {
          "base_uri": "https://localhost:8080/"
        },
        "id": "i3pTqvWhO67T",
        "outputId": "39065585-c857-4983-8f63-19e98dd27b13"
      },
      "execution_count": null,
      "outputs": [
        {
          "output_type": "execute_result",
          "data": {
            "text/plain": [
              "0"
            ]
          },
          "metadata": {},
          "execution_count": 20
        }
      ]
    },
    {
      "cell_type": "code",
      "source": [
        "#Replacing null values in Relation by \"unknown\"\n",
        "data['Relation'] = data['Relation'].replace(np.NaN,'unknown')\n",
        "data['Relation'].isnull().sum()"
      ],
      "metadata": {
        "colab": {
          "base_uri": "https://localhost:8080/"
        },
        "id": "TmF9ecnUO7BS",
        "outputId": "d3a05514-d31b-4e6f-ebeb-e55be70bb284"
      },
      "execution_count": null,
      "outputs": [
        {
          "output_type": "execute_result",
          "data": {
            "text/plain": [
              "0"
            ]
          },
          "metadata": {},
          "execution_count": 22
        }
      ]
    },
    {
      "cell_type": "code",
      "source": [
        "#Replacing null values in StudentAbsenceDays by \"missing\" word\n",
        "data['StudentAbsenceDays']=data['StudentAbsenceDays'].replace(np.NaN,'missing')\n",
        "data['StudentAbsenceDays'].isnull().sum()"
      ],
      "metadata": {
        "colab": {
          "base_uri": "https://localhost:8080/"
        },
        "id": "u-otB095O6kh",
        "outputId": "5351ef56-bb18-4e43-acef-fed618b291a4"
      },
      "execution_count": null,
      "outputs": [
        {
          "output_type": "execute_result",
          "data": {
            "text/plain": [
              "0"
            ]
          },
          "metadata": {},
          "execution_count": 23
        }
      ]
    },
    {
      "cell_type": "markdown",
      "source": [
        "Again checking for null values in the dataset if any"
      ],
      "metadata": {
        "id": "s9w_HRI11DR7"
      }
    },
    {
      "cell_type": "code",
      "source": [
        "missing_values = data.isnull().sum()\n",
        "missing_values"
      ],
      "metadata": {
        "colab": {
          "base_uri": "https://localhost:8080/"
        },
        "id": "4NZvHX8vO6hi",
        "outputId": "7842bd08-3954-4a25-f50a-2652d6085b4b"
      },
      "execution_count": null,
      "outputs": [
        {
          "output_type": "execute_result",
          "data": {
            "text/plain": [
              "gender                      0\n",
              "NationalITy                 0\n",
              "PlaceofBirth                0\n",
              "StageID                     0\n",
              "GradeID                     0\n",
              "SectionID                   0\n",
              "Topic                       0\n",
              "Semester                    0\n",
              "Relation                    0\n",
              "raisedhands                 0\n",
              "VisITedResources            0\n",
              "AnnouncementsView           0\n",
              "Discussion                  0\n",
              "ParentAnsweringSurvey       0\n",
              "ParentschoolSatisfaction    0\n",
              "StudentAbsenceDays          0\n",
              "Class                       0\n",
              "dtype: int64"
            ]
          },
          "metadata": {},
          "execution_count": 24
        }
      ]
    },
    {
      "cell_type": "markdown",
      "source": [
        "##Detecting Outliers "
      ],
      "metadata": {
        "id": "ekgRIcSd1GDe"
      }
    },
    {
      "cell_type": "markdown",
      "source": [
        "Importing matplotlib and seaborn libraries for visualisation"
      ],
      "metadata": {
        "id": "0YE8Og_h1qgj"
      }
    },
    {
      "cell_type": "code",
      "source": [
        "import matplotlib.pyplot as plt\n",
        "import seaborn as sns"
      ],
      "metadata": {
        "id": "gYKmKA1pO6Zm"
      },
      "execution_count": null,
      "outputs": []
    },
    {
      "cell_type": "markdown",
      "source": [
        "Plotting BoxPlot for outlier detection in numerical variables"
      ],
      "metadata": {
        "id": "Pb2H2TQt1jzg"
      }
    },
    {
      "cell_type": "code",
      "source": [
        "sns.boxplot(data=data['raisedhands'],x=data['raisedhands']) "
      ],
      "metadata": {
        "id": "dHVixQ_uO57J",
        "colab": {
          "base_uri": "https://localhost:8080/",
          "height": 296
        },
        "outputId": "f2ac3e77-73a2-467c-d8f6-44f667c16405"
      },
      "execution_count": null,
      "outputs": [
        {
          "output_type": "execute_result",
          "data": {
            "text/plain": [
              "<matplotlib.axes._subplots.AxesSubplot at 0x7f46205c13d0>"
            ]
          },
          "metadata": {},
          "execution_count": 27
        },
        {
          "output_type": "display_data",
          "data": {
            "text/plain": [
              "<Figure size 432x288 with 1 Axes>"
            ],
            "image/png": "[encoded data removed]"
          },
          "metadata": {
            "needs_background": "light"
          }
        }
      ]
    },
    {
      "cell_type": "code",
      "source": [
        "sns.boxplot(data=data['VisITedResources'],x=data['VisITedResources'])"
      ],
      "metadata": {
        "colab": {
          "base_uri": "https://localhost:8080/",
          "height": 296
        },
        "id": "ticPnSMl5P8C",
        "outputId": "f6022be2-715b-4aa6-efac-1c7af5f014ff"
      },
      "execution_count": null,
      "outputs": [
        {
          "output_type": "execute_result",
          "data": {
            "text/plain": [
              "<matplotlib.axes._subplots.AxesSubplot at 0x7f4620a59d10>"
            ]
          },
          "metadata": {},
          "execution_count": 28
        },
        {
          "output_type": "display_data",
          "data": {
            "text/plain": [
              "<Figure size 432x288 with 1 Axes>"
            ],
            "image/png": "[encoded data removed]"
          },
          "metadata": {
            "needs_background": "light"
          }
        }
      ]
    },
    {
      "cell_type": "code",
      "source": [
        "sns.boxplot(data=data['AnnouncementsView'],x=data['AnnouncementsView'])"
      ],
      "metadata": {
        "colab": {
          "base_uri": "https://localhost:8080/",
          "height": 296
        },
        "id": "uCdEO5cc5PpP",
        "outputId": "9999195b-8932-4b17-a800-34abad5ba87b"
      },
      "execution_count": null,
      "outputs": [
        {
          "output_type": "execute_result",
          "data": {
            "text/plain": [
              "<matplotlib.axes._subplots.AxesSubplot at 0x7f46205054d0>"
            ]
          },
          "metadata": {},
          "execution_count": 29
        },
        {
          "output_type": "display_data",
          "data": {
            "text/plain": [
              "<Figure size 432x288 with 1 Axes>"
            ],
            "image/png": "[encoded data removed]"
          },
          "metadata": {
            "needs_background": "light"
          }
        }
      ]
    },
    {
      "cell_type": "code",
      "source": [
        "sns.boxplot(data=data['Discussion'],x=data['Discussion'])"
      ],
      "metadata": {
        "colab": {
          "base_uri": "https://localhost:8080/",
          "height": 296
        },
        "id": "gY8n4Ou95P4A",
        "outputId": "3c95c274-7499-4110-eab1-6ca5cb26ee13"
      },
      "execution_count": null,
      "outputs": [
        {
          "output_type": "execute_result",
          "data": {
            "text/plain": [
              "<matplotlib.axes._subplots.AxesSubplot at 0x7f4620479e50>"
            ]
          },
          "metadata": {},
          "execution_count": 30
        },
        {
          "output_type": "display_data",
          "data": {
            "text/plain": [
              "<Figure size 432x288 with 1 Axes>"
            ],
            "image/png": "[encoded data removed]"
          },
          "metadata": {
            "needs_background": "light"
          }
        }
      ]
    },
    {
      "cell_type": "code",
      "source": [
        "numeric = list(data.select_dtypes(include=np.number).columns)\n",
        "numeric"
      ],
      "metadata": {
        "colab": {
          "base_uri": "https://localhost:8080/"
        },
        "id": "0jszN_HT5P-N",
        "outputId": "8def9b51-8e54-4b6a-f495-e55a7b1cad32"
      },
      "execution_count": null,
      "outputs": [
        {
          "output_type": "execute_result",
          "data": {
            "text/plain": [
              "['raisedhands', 'VisITedResources', 'AnnouncementsView', 'Discussion']"
            ]
          },
          "metadata": {},
          "execution_count": 31
        }
      ]
    },
    {
      "cell_type": "markdown",
      "source": [
        "Plotting HistoGram for continuous numerical values"
      ],
      "metadata": {
        "id": "9dkZA4nb2BOf"
      }
    },
    {
      "cell_type": "code",
      "source": [
        "figure = plt.figure(figsize=(10, 8))\n",
        "for i in range(len(numeric)):\n",
        "    plt.subplot(2, 2, i+1)\n",
        "    sns.histplot(data[numeric[i]], bins=10, kde=True)"
      ],
      "metadata": {
        "colab": {
          "base_uri": "https://localhost:8080/",
          "height": 497
        },
        "id": "puXbY1EU5QAi",
        "outputId": "121e8233-e03b-4e55-b921-a8e5f0f8d3bc"
      },
      "execution_count": null,
      "outputs": [
        {
          "output_type": "display_data",
          "data": {
            "text/plain": [
              "<Figure size 720x576 with 4 Axes>"
            ],
            "image/png": "[encoded data removed]"
          },
          "metadata": {
            "needs_background": "light"
          }
        }
      ]
    },
    {
      "cell_type": "markdown",
      "source": [
        "Applying data transformation techniques "
      ],
      "metadata": {
        "id": "avc350Gc2RCB"
      }
    },
    {
      "cell_type": "code",
      "source": [
        "from sklearn.preprocessing import PowerTransformer, QuantileTransformer\n",
        "\n",
        "# Manual Transform\n",
        "figure = plt.figure(figsize=(15, 7))\n",
        "transform_data = data[\"AnnouncementsView\"]\n",
        "data1 = transform_data**(0.557)\n",
        "plt.subplot(1, 3, 1)\n",
        "sns.histplot(data1, kde=True)\n",
        "\n",
        "# using power-transformer\n",
        "transformer = PowerTransformer()\n",
        "data1 = transformer.fit_transform(np.array(transform_data).reshape(-1, 1))\n",
        "plt.subplot(1, 3, 2)\n",
        "sns.histplot(data1, kde=True)\n",
        "\n",
        "# using quantile-transformer\n",
        "transformer = QuantileTransformer(n_quantiles=50, output_distribution='normal')\n",
        "data1 = transformer.fit_transform(np.array(transform_data).reshape(-1, 1))\n",
        "plt.subplot(1, 3, 3)\n",
        "sns.histplot(data1, kde=True)"
      ],
      "metadata": {
        "id": "G5tY8ni25QDX",
        "colab": {
          "base_uri": "https://localhost:8080/",
          "height": 459
        },
        "outputId": "00d2573d-251c-4575-fc47-fb330298997a"
      },
      "execution_count": null,
      "outputs": [
        {
          "output_type": "execute_result",
          "data": {
            "text/plain": [
              "<matplotlib.axes._subplots.AxesSubplot at 0x7f461e1b05d0>"
            ]
          },
          "metadata": {},
          "execution_count": 33
        },
        {
          "output_type": "display_data",
          "data": {
            "text/plain": [
              "<Figure size 1080x504 with 3 Axes>"
            ],
            "image/png": "[encoded data removed]"
          },
          "metadata": {
            "needs_background": "light"
          }
        }
      ]
    },
    {
      "cell_type": "code",
      "source": [
        ""
      ],
      "metadata": {
        "id": "e7kKxWHg2-oC"
      },
      "execution_count": null,
      "outputs": []
    }
  ]
}