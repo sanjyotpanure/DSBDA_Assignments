{
  "cells": [
    {
      "cell_type": "markdown",
      "source": [
        "Consider the Amazon Alexa Reviews Dataset. This dataset consists\n",
        "of a nearly 3000 Amazon customer reviews (input text), star\n",
        "ratings, date of review, variant and feedback of various amazon\n",
        "Alexa products like Alexa Echo, Echo dots, Alexa Firesticks etc.\n",
        "Perform follwing operations on this dataset.\n",
        "\n",
        "(i) Plot a graph of Positive and Negative Feedback (1 = Positive Feedback, 0 = Negative Feedback)\n",
        "\n",
        "(ii) Plot the graph of Ratings distibution. \n",
        "\n",
        "(iii) Convert the review text into lowercase\n",
        "\n",
        "(iv) Remove all punctuations from review text.\n",
        "\n",
        "(v) Remove emoticons and emojis from the text\n",
        "\n",
        "(vi) Tokenize the review text into words.\n",
        "\n",
        "(vii) Remove the stopwords from the tokenized text.\n",
        "\n",
        "(viii) Perform stemming & lemmatization on the review text.\n",
        "\n",
        "(ix) Perform the word vectorization on review text using Bag of\n",
        "Words technique.\n",
        "\n",
        "(x) Create representation of Review Text by calculating Term\n",
        "Frequency and Inverse Document Frequency (TF-IDF)"
      ],
      "metadata": {
        "id": "jQLRBXMZ9aXX"
      }
    },
    {
      "cell_type": "code",
      "execution_count": null,
      "metadata": {
        "id": "CrIIzxyN8YNy"
      },
      "outputs": [],
      "source": [
        "import nltk \n",
        "import pandas as pd\n",
        "import seaborn as sns\n",
        "import matplotlib.pyplot as plt\n",
        "\n",
        "# nltk.download('punkt')\n",
        "# nltk.download('stopwords')\n",
        "# nltk.download('wordnet')"
      ]
    },
    {
      "cell_type": "code",
      "source": [
        "from google.colab import drive\n",
        "drive.mount('/content/drive')"
      ],
      "metadata": {
        "colab": {
          "base_uri": "https://localhost:8080/"
        },
        "id": "4ms4nRNa0XiS",
        "outputId": "85f4842e-a088-43e7-ec4b-22a755ce1498"
      },
      "execution_count": null,
      "outputs": [
        {
          "output_type": "stream",
          "name": "stdout",
          "text": [
            "Mounted at /content/drive\n"
          ]
        }
      ]
    },
    {
      "cell_type": "markdown",
      "source": [
        "Loading the DataSet"
      ],
      "metadata": {
        "id": "k7WM_pmY868l"
      }
    },
    {
      "cell_type": "code",
      "execution_count": null,
      "metadata": {
        "id": "fEGR1QmP8YN5",
        "outputId": "9de28ca0-64b3-4c97-f0bd-7eb63809f997",
        "colab": {
          "base_uri": "https://localhost:8080/",
          "height": 363
        }
      },
      "outputs": [
        {
          "output_type": "execute_result",
          "data": {
            "text/plain": [
              "   rating       date             variation  \\\n",
              "0       5 2018-07-31      Charcoal Fabric    \n",
              "1       5 2018-07-31      Charcoal Fabric    \n",
              "2       4 2018-07-31        Walnut Finish    \n",
              "3       5 2018-07-31      Charcoal Fabric    \n",
              "4       5 2018-07-31      Charcoal Fabric    \n",
              "5       5 2018-07-31  Heather Gray Fabric    \n",
              "6       3 2018-07-31     Sandstone Fabric    \n",
              "7       5 2018-07-31      Charcoal Fabric    \n",
              "8       5 2018-07-30  Heather Gray Fabric    \n",
              "9       5 2018-07-30  Heather Gray Fabric    \n",
              "\n",
              "                                    verified_reviews  feedback  \n",
              "0                                      Love my Echo!         1  \n",
              "1                                          Loved it!         1  \n",
              "2  Sometimes while playing a game, you can answer...         1  \n",
              "3  I have had a lot of fun with this thing. My 4 ...         1  \n",
              "4                                              Music         1  \n",
              "5  I received the echo as a gift. I needed anothe...         1  \n",
              "6  Without having a cellphone, I cannot use many ...         1  \n",
              "7  I think this is the 5th one I've purchased. I'...         1  \n",
              "8                                        looks great         1  \n",
              "9  Love it! I’ve listened to songs I haven’t hear...         1  "
            ],
            "text/html": [
              "\n",
              "  <div id=\"df-f8aa1a30-d4f8-4f7c-8f60-962cfdcda2e3\">\n",
              "    <div class=\"colab-df-container\">\n",
              "      <div>\n",
              "<style scoped>\n",
              "    .dataframe tbody tr th:only-of-type {\n",
              "        vertical-align: middle;\n",
              "    }\n",
              "\n",
              "    .dataframe tbody tr th {\n",
              "        vertical-align: top;\n",
              "    }\n",
              "\n",
              "    .dataframe thead th {\n",
              "        text-align: right;\n",
              "    }\n",
              "</style>\n",
              "<table border=\"1\" class=\"dataframe\">\n",
              "  <thead>\n",
              "    <tr style=\"text-align: right;\">\n",
              "      <th></th>\n",
              "      <th>rating</th>\n",
              "      <th>date</th>\n",
              "      <th>variation</th>\n",
              "      <th>verified_reviews</th>\n",
              "      <th>feedback</th>\n",
              "    </tr>\n",
              "  </thead>\n",
              "  <tbody>\n",
              "    <tr>\n",
              "      <th>0</th>\n",
              "      <td>5</td>\n",
              "      <td>2018-07-31</td>\n",
              "      <td>Charcoal Fabric</td>\n",
              "      <td>Love my Echo!</td>\n",
              "      <td>1</td>\n",
              "    </tr>\n",
              "    <tr>\n",
              "      <th>1</th>\n",
              "      <td>5</td>\n",
              "      <td>2018-07-31</td>\n",
              "      <td>Charcoal Fabric</td>\n",
              "      <td>Loved it!</td>\n",
              "      <td>1</td>\n",
              "    </tr>\n",
              "    <tr>\n",
              "      <th>2</th>\n",
              "      <td>4</td>\n",
              "      <td>2018-07-31</td>\n",
              "      <td>Walnut Finish</td>\n",
              "      <td>Sometimes while playing a game, you can answer...</td>\n",
              "      <td>1</td>\n",
              "    </tr>\n",
              "    <tr>\n",
              "      <th>3</th>\n",
              "      <td>5</td>\n",
              "      <td>2018-07-31</td>\n",
              "      <td>Charcoal Fabric</td>\n",
              "      <td>I have had a lot of fun with this thing. My 4 ...</td>\n",
              "      <td>1</td>\n",
              "    </tr>\n",
              "    <tr>\n",
              "      <th>4</th>\n",
              "      <td>5</td>\n",
              "      <td>2018-07-31</td>\n",
              "      <td>Charcoal Fabric</td>\n",
              "      <td>Music</td>\n",
              "      <td>1</td>\n",
              "    </tr>\n",
              "    <tr>\n",
              "      <th>5</th>\n",
              "      <td>5</td>\n",
              "      <td>2018-07-31</td>\n",
              "      <td>Heather Gray Fabric</td>\n",
              "      <td>I received the echo as a gift. I needed anothe...</td>\n",
              "      <td>1</td>\n",
              "    </tr>\n",
              "    <tr>\n",
              "      <th>6</th>\n",
              "      <td>3</td>\n",
              "      <td>2018-07-31</td>\n",
              "      <td>Sandstone Fabric</td>\n",
              "      <td>Without having a cellphone, I cannot use many ...</td>\n",
              "      <td>1</td>\n",
              "    </tr>\n",
              "    <tr>\n",
              "      <th>7</th>\n",
              "      <td>5</td>\n",
              "      <td>2018-07-31</td>\n",
              "      <td>Charcoal Fabric</td>\n",
              "      <td>I think this is the 5th one I've purchased. I'...</td>\n",
              "      <td>1</td>\n",
              "    </tr>\n",
              "    <tr>\n",
              "      <th>8</th>\n",
              "      <td>5</td>\n",
              "      <td>2018-07-30</td>\n",
              "      <td>Heather Gray Fabric</td>\n",
              "      <td>looks great</td>\n",
              "      <td>1</td>\n",
              "    </tr>\n",
              "    <tr>\n",
              "      <th>9</th>\n",
              "      <td>5</td>\n",
              "      <td>2018-07-30</td>\n",
              "      <td>Heather Gray Fabric</td>\n",
              "      <td>Love it! I’ve listened to songs I haven’t hear...</td>\n",
              "      <td>1</td>\n",
              "    </tr>\n",
              "  </tbody>\n",
              "</table>\n",
              "</div>\n",
              "      <button class=\"colab-df-convert\" onclick=\"convertToInteractive('df-f8aa1a30-d4f8-4f7c-8f60-962cfdcda2e3')\"\n",
              "              title=\"Convert this dataframe to an interactive table.\"\n",
              "              style=\"display:none;\">\n",
              "        \n",
              "  <svg xmlns=\"http://www.w3.org/2000/svg\" height=\"24px\"viewBox=\"0 0 24 24\"\n",
              "       width=\"24px\">\n",
              "    <path d=\"M0 0h24v24H0V0z\" fill=\"none\"/>\n",
              "    <path d=\"M18.56 5.44l.94 2.06.94-2.06 2.06-.94-2.06-.94-.94-2.06-.94 2.06-2.06.94zm-11 1L8.5 8.5l.94-2.06 2.06-.94-2.06-.94L8.5 2.5l-.94 2.06-2.06.94zm10 10l.94 2.06.94-2.06 2.06-.94-2.06-.94-.94-2.06-.94 2.06-2.06.94z\"/><path d=\"M17.41 7.96l-1.37-1.37c-.4-.4-.92-.59-1.43-.59-.52 0-1.04.2-1.43.59L10.3 9.45l-7.72 7.72c-.78.78-.78 2.05 0 2.83L4 21.41c.39.39.9.59 1.41.59.51 0 1.02-.2 1.41-.59l7.78-7.78 2.81-2.81c.8-.78.8-2.07 0-2.86zM5.41 20L4 18.59l7.72-7.72 1.47 1.35L5.41 20z\"/>\n",
              "  </svg>\n",
              "      </button>\n",
              "      \n",
              "  <style>\n",
              "    .colab-df-container {\n",
              "      display:flex;\n",
              "      flex-wrap:wrap;\n",
              "      gap: 12px;\n",
              "    }\n",
              "\n",
              "    .colab-df-convert {\n",
              "      background-color: #E8F0FE;\n",
              "      border: none;\n",
              "      border-radius: 50%;\n",
              "      cursor: pointer;\n",
              "      display: none;\n",
              "      fill: #1967D2;\n",
              "      height: 32px;\n",
              "      padding: 0 0 0 0;\n",
              "      width: 32px;\n",
              "    }\n",
              "\n",
              "    .colab-df-convert:hover {\n",
              "      background-color: #E2EBFA;\n",
              "      box-shadow: 0px 1px 2px rgba(60, 64, 67, 0.3), 0px 1px 3px 1px rgba(60, 64, 67, 0.15);\n",
              "      fill: #174EA6;\n",
              "    }\n",
              "\n",
              "    [theme=dark] .colab-df-convert {\n",
              "      background-color: #3B4455;\n",
              "      fill: #D2E3FC;\n",
              "    }\n",
              "\n",
              "    [theme=dark] .colab-df-convert:hover {\n",
              "      background-color: #434B5C;\n",
              "      box-shadow: 0px 1px 3px 1px rgba(0, 0, 0, 0.15);\n",
              "      filter: drop-shadow(0px 1px 2px rgba(0, 0, 0, 0.3));\n",
              "      fill: #FFFFFF;\n",
              "    }\n",
              "  </style>\n",
              "\n",
              "      <script>\n",
              "        const buttonEl =\n",
              "          document.querySelector('#df-f8aa1a30-d4f8-4f7c-8f60-962cfdcda2e3 button.colab-df-convert');\n",
              "        buttonEl.style.display =\n",
              "          google.colab.kernel.accessAllowed ? 'block' : 'none';\n",
              "\n",
              "        async function convertToInteractive(key) {\n",
              "          const element = document.querySelector('#df-f8aa1a30-d4f8-4f7c-8f60-962cfdcda2e3');\n",
              "          const dataTable =\n",
              "            await google.colab.kernel.invokeFunction('convertToInteractive',\n",
              "                                                     [key], {});\n",
              "          if (!dataTable) return;\n",
              "\n",
              "          const docLinkHtml = 'Like what you see? Visit the ' +\n",
              "            '<a target=\"_blank\" href=https://colab.research.google.com/notebooks/data_table.ipynb>data table notebook</a>'\n",
              "            + ' to learn more about interactive tables.';\n",
              "          element.innerHTML = '';\n",
              "          dataTable['output_type'] = 'display_data';\n",
              "          await google.colab.output.renderOutput(dataTable, element);\n",
              "          const docLink = document.createElement('div');\n",
              "          docLink.innerHTML = docLinkHtml;\n",
              "          element.appendChild(docLink);\n",
              "        }\n",
              "      </script>\n",
              "    </div>\n",
              "  </div>\n",
              "  "
            ]
          },
          "metadata": {},
          "execution_count": 19
        }
      ],
      "source": [
        "df = pd.read_excel(\"/content/drive/MyDrive/Dataset/amazon_alexa.xlsx\")\n",
        "df.head(10)"
      ]
    },
    {
      "cell_type": "markdown",
      "source": [
        "Dropping columns that are not required"
      ],
      "metadata": {
        "id": "f8ng5Ew29KcZ"
      }
    },
    {
      "cell_type": "code",
      "execution_count": null,
      "metadata": {
        "id": "9LsSlIqf8YN7"
      },
      "outputs": [],
      "source": [
        "df.drop(columns=['date', 'variation'], inplace=True)"
      ]
    },
    {
      "cell_type": "markdown",
      "source": [
        "Plotting a graph of Positive and Negative Feedback (1 = Positive Feedback, 0 = Negative Feedback)"
      ],
      "metadata": {
        "id": "CA84IsVF-8-C"
      }
    },
    {
      "cell_type": "code",
      "execution_count": null,
      "metadata": {
        "id": "NmTWlM0b8YN8",
        "outputId": "b4223b8a-1f95-4a2a-948c-33fe9bcf6645",
        "colab": {
          "base_uri": "https://localhost:8080/",
          "height": 284
        }
      },
      "outputs": [
        {
          "output_type": "execute_result",
          "data": {
            "text/plain": [
              "<matplotlib.axes._subplots.AxesSubplot at 0x7f8d82448890>"
            ]
          },
          "metadata": {},
          "execution_count": 6
        },
        {
          "output_type": "display_data",
          "data": {
            "text/plain": [
              "<Figure size 504x288 with 1 Axes>"
            ],
            "image/png": "[encoded data removed]"
          },
          "metadata": {
            "needs_background": "light"
          }
        }
      ],
      "source": [
        "fig = plt.figure(figsize=(7, 4))\n",
        "d = df['feedback'].value_counts()\n",
        "x = d.keys().to_list()\n",
        "y = d.values.tolist()\n",
        "sns.barplot(x=x, y=y)"
      ]
    },
    {
      "cell_type": "code",
      "execution_count": null,
      "metadata": {
        "id": "3yVpMJq88YN-",
        "outputId": "50d293c9-072e-4e23-a778-4507afbba128",
        "colab": {
          "base_uri": "https://localhost:8080/",
          "height": 296
        }
      },
      "outputs": [
        {
          "output_type": "execute_result",
          "data": {
            "text/plain": [
              "<matplotlib.axes._subplots.AxesSubplot at 0x7f8d7eb90ed0>"
            ]
          },
          "metadata": {},
          "execution_count": 18
        },
        {
          "output_type": "display_data",
          "data": {
            "text/plain": [
              "<Figure size 504x288 with 1 Axes>"
            ],
            "image/png": "[encoded data removed]"
          },
          "metadata": {
            "needs_background": "light"
          }
        }
      ],
      "source": [
        "# Plotting the graph of Ratings distibution \n",
        "# A kernel density estimate (KDE) plot is a method for visualizing the distribution of observations in a dataset,\n",
        "# analagous to a histogram. KDE represents the data using a continuous probability density curve in one or more dimensions.\n",
        "fig = plt.figure(figsize=(7, 4))\n",
        "sns.histplot(data=df, x='rating', bins=5, kde=True, binrange=(0, 5))"
      ]
    },
    {
      "cell_type": "markdown",
      "source": [
        "#### Converting the review text to lowercase"
      ],
      "metadata": {
        "id": "W1dtJNC__G-7"
      }
    },
    {
      "cell_type": "code",
      "execution_count": null,
      "metadata": {
        "id": "qcVIxr4r8YN_",
        "outputId": "23c874b1-87ae-4361-d192-392a7757c59b",
        "colab": {
          "base_uri": "https://localhost:8080/"
        }
      },
      "outputs": [
        {
          "output_type": "execute_result",
          "data": {
            "text/plain": [
              "['love my echo!',\n",
              " 'loved it!',\n",
              " 'sometimes while playing a game, you can answer a question correctly but alexa says you got it wrong and answers the same as you.  i like being able to turn lights on and off while away from home.',\n",
              " 'i have had a lot of fun with this thing. my 4 yr old learns about dinosaurs, i control the lights and play games like categories. has nice sound when playing music as well.',\n",
              " 'music',\n",
              " 'i received the echo as a gift. i needed another bluetooth or something to play music easily accessible, and found this smart speaker. can’t wait to see what else it can do.',\n",
              " 'without having a cellphone, i cannot use many of her features. i have an ipad but do not see that of any use.  it is a great alarm.  if u r almost deaf, you can hear her alarm in the bedroom from out in the living room, so that is reason enough to keep her.it is fun to ask random questions to hear her response.  she does not seem to be very smartbon politics yet.',\n",
              " \"i think this is the 5th one i've purchased. i'm working on getting one in every room of my house. i really like what features they offer specifily playing music on all echos and controlling the lights throughout my house.\",\n",
              " 'looks great',\n",
              " 'love it! i’ve listened to songs i haven’t heard since childhood! i get the news, weather, information! it’s great!',\n",
              " 'i sent it to my 85 year old dad, and he talks to it constantly.',\n",
              " \"i love it! learning knew things with it eveyday! still figuring out how everything works but so far it's been easy to use and understand. she does make me laugh at times\",\n",
              " 'i purchased this for my mother who is having knee problems now, to give her something to do while trying to over come not getting around so fast like she did.she enjoys all the little and big things it can do...alexa play this song, what time is it and where, and how to cook this and that!',\n",
              " 'love, love, love!!',\n",
              " 'just what i expected....',\n",
              " 'i love it, wife hates it.',\n",
              " 'really happy with this purchase.  great speaker and easy to set up.',\n",
              " 'we have only been using alexa for a couple of days and are having a lot of fun with our new toy. it like having a new household member! we are trying to learn all the different featues and benefits that come with it.',\n",
              " 'we love the size of the 2nd generation echo. still needs a little improvement on sound',\n",
              " \"i liked the original echo. this is the same but shorter and with greater fabric/color choices. i miss the volume ring on top, now it's just the plus/minus buttons. not a big deal but the ring w as comforting. :) other than that, well i do like the use of a standard usb charger /port instead of the previous round pin. other than that, i guess it sounds the same, seems to work the same, still answers to alexa/echo/computer. so what's not to like? :)\",\n",
              " 'love the echo and how good the music sounds playing off it. alexa understands most commands but it is difficult at times for her to find specific playlists or songs on spotify. she is good with amazon music but is lacking in other major programs.',\n",
              " \"we love alexa! we use her to play music, play radio through itunes, play podcasts through anypod, and set reminders. we listen to our flash briefing of news and weather every morning. we rely on our custom lists. we like being able to voice control the volume. we're sure we'll continue to find new uses.sometimes it's a bit frustrating when alexa doesn't understand what we're saying.\",\n",
              " 'have only had it set up for a few days. still adding smart home devices to it. the speaker is great for playing music. i like the size, we have it stationed on the kitchen counter and it’s not intrusive to look at.',\n",
              " 'i love it. it plays my sleep sounds immediately when i ask',\n",
              " 'i got a second unit for the bedroom, i was expecting the sounds to be improved but i didnt really see a difference at all.  overall, not a big improvement over the 1st generation.',\n",
              " 'amazing product',\n",
              " \"i love my echo. it's easy to operate, loads of fun.it is everything as advertised. i use it mainly to play my favorite tunes and test alexa's knowledge.\",\n",
              " 'sounds great!! love them!',\n",
              " 'fun item to play with and get used to using.  sometimes has hard time answering the questions you ask, but i think it will be better.',\n",
              " 'just like the other one',\n",
              " 'still learning all the capabilities...but so far pretty pretty pretty good',\n",
              " 'i like it',\n",
              " 'she works well. needs a learning command  for unique, owners and users like. alexa “learn” tasha’s birthday.  or alexa “learn” my definition of fine. etc. other than that she is great',\n",
              " \"the speakers sound pretty good for being so small and setup is pretty easy.  i bought two and the reason i only rate it a 3 is i have followed the instructions for synching music to both units.  i know i've done it correctly but they won't sync.  that was my primary motivation for purchasing multiple units.\",\n",
              " 'this device is awesome!',\n",
              " 'i bought this to compare the speaker quality to our first generation speaker and i like the sound better.  i will ship this to my daughter though because i like the fact that my first generation has a chargeable base that we bought which keeps it more mobile and she needs a better sound than what she has now.',\n",
              " 'love my echo. still learning all the things it will do. wasn’t able to follow instructions included in the package, but found a great one on u-tube.',\n",
              " 'speaker is better than 1st generation echo',\n",
              " 'this thing is way cool!  you should get one.  if you want to be cool, that is.',\n",
              " \"this is my first digital assistant so i'm giving this a good review. speaker is really good for the cheap price on prime day. fun to play with and can be used as an alarm clock (that's what i was going to get in the first place, but i ended up with echo). if you haven't had a go with one then definitely try it!what i like best is the number of other devices that it can connect with. my purchase came with a smart plug for $10 which i connect my lamp to. alexa, turn of the lights!\",\n",
              " \"my husband likes being able to use it to listen to music.  i wish we knew all it's capabilities\",\n",
              " 'my android would not allow alexa to connect. fortunately, my sister was here with her apple cell. after an hour+ tech support fixed the glitches. we are up and running.',\n",
              " 'so far so good',\n",
              " 'tried to play certain broadway shows like camelot and it gives ne the group camelot.',\n",
              " 'great',\n",
              " 'very satisfied with the echo. alexa now controls the lights in my family room and my wife can listen to jimmy buffet by just asking alexa.',\n",
              " \"it's like siri, in fact, siri answers more accurately then alexa.  i don't see a real need for it in my household, though it was a good bargain on prime day deals.\",\n",
              " 'love my echo. still learning how every thing works but having tons of fun.',\n",
              " 'i love you so much',\n",
              " 'no different than apple. to play a specific list of music you must have an amazon of spotify “plus/prime/etc” account.  so you must pay to play “your” music.  3 stars for that reason.  everything else is 👍🏻 .',\n",
              " 'excelente, lo unico es que no esta en español.',\n",
              " \"i'm still learning how to use it, but so far my echo is great! the sound is actually much better than i was expecting.\",\n",
              " 'works as you’d expect and then some. also good sound quality considering price (70.00 on sale) and features.',\n",
              " 'the sound from this echo 2nd generation is phenomenal!  not to mention that i just love alexa!  she is very helpful.',\n",
              " 'like google better',\n",
              " 'just had to have it and now lets play and learn how to get the most out of it.',\n",
              " 'works as advertised. very easy to setup. still learning what this can do.',\n",
              " 'great sound and easy to set up.',\n",
              " 'love alexa, bought others for friends',\n",
              " 'love the echo i purchased it for company for my husband he is 83 and alexa is great all he has to do is say her name and she tells him a joke and plays his favorite songs',\n",
              " '😍',\n",
              " 'love being able to listen to music easily. still learning all the features available',\n",
              " 'did t really know what i could use this device for. used it for a few things, but need an overview',\n",
              " 'love this just wish it had a built in hub',\n",
              " 'i use it primarily to play music.  it works wonderfully!  still getting used to some of the many things it will do.  amazon has sent several tips since i got it. thanks for all your help!']"
            ]
          },
          "metadata": {},
          "execution_count": 25
        }
      ],
      "source": [
        "reviews = df['verified_reviews'].to_list()\n",
        "\n",
        "def convert_lower(arr):\n",
        "    return [i.lower() for i in arr]\n",
        "\n",
        "reviews = convert_lower(reviews)\n",
        "reviews[0:65]"
      ]
    },
    {
      "cell_type": "markdown",
      "source": [
        "#####Removing all punctuations from review text"
      ],
      "metadata": {
        "id": "P-XhtCu--rvg"
      }
    },
    {
      "cell_type": "code",
      "execution_count": null,
      "metadata": {
        "id": "yW5M52rT8YOA",
        "outputId": "bdc46b31-0863-4172-e263-01aa0042287a"
      },
      "outputs": [
        {
          "data": {
            "text/plain": [
              "['love my echo',\n",
              " 'loved it',\n",
              " 'sometimes while playing a game you can answer a question correctly but alexa says you got it wrong and answers the same as you i like being able to turn lights on and off while away from home',\n",
              " 'i have had a lot of fun with this thing my yr old learns about dinosaurs i control the lights and play games like categories has nice sound when playing music as well',\n",
              " 'music']"
            ]
          },
          "execution_count": 7,
          "metadata": {},
          "output_type": "execute_result"
        }
      ],
      "source": [
        "from nltk.tokenize import word_tokenize\n",
        "\n",
        "def remove_punct(arr):\n",
        "    for i in range(len(arr)):\n",
        "        arr[i] = \" \".join(map(str, [w for w in word_tokenize(arr[i]) if w.isalpha()]))\n",
        "    return arr\n",
        "\n",
        "reviews = remove_punct(reviews)\n",
        "reviews[0:5]"
      ]
    },
    {
      "cell_type": "markdown",
      "source": [
        "##### Removing the emoticons and emojis from the text"
      ],
      "metadata": {
        "id": "nsTNu-fx-lZZ"
      }
    },
    {
      "cell_type": "code",
      "execution_count": null,
      "metadata": {
        "id": "6dtQOL8V8YOB",
        "outputId": "a3f73145-f8e6-4c19-ee62-56c733638e18",
        "colab": {
          "base_uri": "https://localhost:8080/"
        }
      },
      "outputs": [
        {
          "output_type": "execute_result",
          "data": {
            "text/plain": [
              "['love my echo!',\n",
              " 'loved it!',\n",
              " 'sometimes while playing a game, you can answer a question correctly but alexa says you got it wrong and answers the same as you.  i like being able to turn lights on and off while away from home.',\n",
              " 'i have had a lot of fun with this thing. my 4 yr old learns about dinosaurs, i control the lights and play games like categories. has nice sound when playing music as well.',\n",
              " 'music']"
            ]
          },
          "metadata": {},
          "execution_count": 29
        }
      ],
      "source": [
        "import re\n",
        "\n",
        "# using regex for emoji patterns\n",
        "def remove_emojis(arr):\n",
        "    emoji_pattern = re.compile(\"[\"\n",
        "            u\"\\U0001F600-\\U0001F64F\"  # emoticons\n",
        "            u\"\\U0001F300-\\U0001F5FF\"  # symbols & pictographs\n",
        "            u\"\\U0001F680-\\U0001F6FF\"  # transport & map symbols\n",
        "            u\"\\U0001F1E0-\\U0001F1FF\"  # flags (iOS)\n",
        "                            \"]+\", flags=re.UNICODE)\n",
        "\n",
        "    for i in range(len(arr)):\n",
        "        arr[i] = emoji_pattern.sub(r'', arr[i])\n",
        "\n",
        "    return arr\n",
        "\n",
        "reviews = remove_emojis(reviews)\n",
        "reviews[0:5]"
      ]
    },
    {
      "cell_type": "markdown",
      "source": [
        "####Tokenize the review text into words"
      ],
      "metadata": {
        "id": "-HhUiven-e1E"
      }
    },
    {
      "cell_type": "code",
      "execution_count": null,
      "metadata": {
        "id": "_pLnKD178YOD",
        "outputId": "1378086a-9921-4984-bab7-5a898f93100b"
      },
      "outputs": [
        {
          "data": {
            "text/plain": [
              "[['love', 'my', 'echo'],\n",
              " ['loved', 'it'],\n",
              " ['sometimes',\n",
              "  'while',\n",
              "  'playing',\n",
              "  'a',\n",
              "  'game',\n",
              "  'you',\n",
              "  'can',\n",
              "  'answer',\n",
              "  'a',\n",
              "  'question',\n",
              "  'correctly',\n",
              "  'but',\n",
              "  'alexa',\n",
              "  'says',\n",
              "  'you',\n",
              "  'got',\n",
              "  'it',\n",
              "  'wrong',\n",
              "  'and',\n",
              "  'answers',\n",
              "  'the',\n",
              "  'same',\n",
              "  'as',\n",
              "  'you',\n",
              "  'i',\n",
              "  'like',\n",
              "  'being',\n",
              "  'able',\n",
              "  'to',\n",
              "  'turn',\n",
              "  'lights',\n",
              "  'on',\n",
              "  'and',\n",
              "  'off',\n",
              "  'while',\n",
              "  'away',\n",
              "  'from',\n",
              "  'home'],\n",
              " ['i',\n",
              "  'have',\n",
              "  'had',\n",
              "  'a',\n",
              "  'lot',\n",
              "  'of',\n",
              "  'fun',\n",
              "  'with',\n",
              "  'this',\n",
              "  'thing',\n",
              "  'my',\n",
              "  'yr',\n",
              "  'old',\n",
              "  'learns',\n",
              "  'about',\n",
              "  'dinosaurs',\n",
              "  'i',\n",
              "  'control',\n",
              "  'the',\n",
              "  'lights',\n",
              "  'and',\n",
              "  'play',\n",
              "  'games',\n",
              "  'like',\n",
              "  'categories',\n",
              "  'has',\n",
              "  'nice',\n",
              "  'sound',\n",
              "  'when',\n",
              "  'playing',\n",
              "  'music',\n",
              "  'as',\n",
              "  'well'],\n",
              " ['music']]"
            ]
          },
          "execution_count": 9,
          "metadata": {},
          "output_type": "execute_result"
        }
      ],
      "source": [
        "def tokenize_all(arr):\n",
        "    return [word_tokenize(sent) for sent in arr]\n",
        "\n",
        "reviews = tokenize_all(reviews)\n",
        "reviews[0:5]"
      ]
    },
    {
      "cell_type": "markdown",
      "source": [
        "####Removing the stopwords from the tokenized text"
      ],
      "metadata": {
        "id": "H5oHxRSO-L80"
      }
    },
    {
      "cell_type": "code",
      "execution_count": null,
      "metadata": {
        "id": "Dvx8CBJa8YOE",
        "outputId": "5eaa3b3d-d21f-45f5-873d-c20bc44398ea"
      },
      "outputs": [
        {
          "data": {
            "text/plain": [
              "[['love', 'echo'],\n",
              " ['loved'],\n",
              " ['sometimes',\n",
              "  'playing',\n",
              "  'game',\n",
              "  'answer',\n",
              "  'question',\n",
              "  'correctly',\n",
              "  'alexa',\n",
              "  'says',\n",
              "  'got',\n",
              "  'wrong',\n",
              "  'answers',\n",
              "  'like',\n",
              "  'able',\n",
              "  'turn',\n",
              "  'lights',\n",
              "  'away',\n",
              "  'home'],\n",
              " ['lot',\n",
              "  'fun',\n",
              "  'thing',\n",
              "  'yr',\n",
              "  'old',\n",
              "  'learns',\n",
              "  'dinosaurs',\n",
              "  'control',\n",
              "  'lights',\n",
              "  'play',\n",
              "  'games',\n",
              "  'like',\n",
              "  'categories',\n",
              "  'nice',\n",
              "  'sound',\n",
              "  'playing',\n",
              "  'music',\n",
              "  'well'],\n",
              " ['music']]"
            ]
          },
          "execution_count": 10,
          "metadata": {},
          "output_type": "execute_result"
        }
      ],
      "source": [
        "from nltk.corpus import stopwords\n",
        "\n",
        "def remove_stopwords(arr):\n",
        "    stop_words = stopwords.words('english')\n",
        "    for i in range(len(arr)):\n",
        "        arr[i] = [w for w in arr[i] if w not in stop_words]\n",
        "    return arr\n",
        "\n",
        "reviews = remove_stopwords(reviews)\n",
        "reviews[0:5]"
      ]
    },
    {
      "cell_type": "markdown",
      "source": [
        "####Performing stemming and lemmatization on the review text"
      ],
      "metadata": {
        "id": "GrxW0XDu-Bni"
      }
    },
    {
      "cell_type": "code",
      "execution_count": null,
      "metadata": {
        "id": "MqfJDz7Z8YOG",
        "outputId": "fdf7962e-c0bd-4239-8904-5eed413fadee"
      },
      "outputs": [
        {
          "data": {
            "text/plain": [
              "[['love', 'echo'],\n",
              " ['love'],\n",
              " ['sometim',\n",
              "  'play',\n",
              "  'game',\n",
              "  'answer',\n",
              "  'question',\n",
              "  'correctli',\n",
              "  'alexa',\n",
              "  'say',\n",
              "  'got',\n",
              "  'wrong',\n",
              "  'answer',\n",
              "  'like',\n",
              "  'abl',\n",
              "  'turn',\n",
              "  'light',\n",
              "  'away',\n",
              "  'home'],\n",
              " ['lot',\n",
              "  'fun',\n",
              "  'thing',\n",
              "  'yr',\n",
              "  'old',\n",
              "  'learn',\n",
              "  'dinosaur',\n",
              "  'control',\n",
              "  'light',\n",
              "  'play',\n",
              "  'game',\n",
              "  'like',\n",
              "  'categori',\n",
              "  'nice',\n",
              "  'sound',\n",
              "  'play',\n",
              "  'music',\n",
              "  'well'],\n",
              " ['music']]"
            ]
          },
          "execution_count": 11,
          "metadata": {},
          "output_type": "execute_result"
        }
      ],
      "source": [
        "from nltk.stem.porter import PorterStemmer\n",
        "from nltk.stem import WordNetLemmatizer\n",
        "\n",
        "def stem_lemmatize(arr):\n",
        "    stemmer = PorterStemmer()\n",
        "    lemmatizer = WordNetLemmatizer()\n",
        "\n",
        "    for i in range(len(arr)):\n",
        "        # stem\n",
        "        arr[i] = [stemmer.stem(w) for w in arr[i]]\n",
        "        # lemmatize\n",
        "        arr[i] = [lemmatizer.lemmatize(w) for w in arr[i]]\n",
        "    \n",
        "    return arr\n",
        "\n",
        "reviews = stem_lemmatize(reviews)\n",
        "reviews[0:5]"
      ]
    },
    {
      "cell_type": "markdown",
      "source": [
        "####converting arrays back to the sentences"
      ],
      "metadata": {
        "id": "sznFFBji98Ea"
      }
    },
    {
      "cell_type": "code",
      "execution_count": null,
      "metadata": {
        "id": "45DIMzQy8YOH",
        "outputId": "4b98703d-1b61-4c94-942d-f408e507f7be"
      },
      "outputs": [
        {
          "name": "stdout",
          "output_type": "stream",
          "text": [
            "['love echo', 'love', 'sometim play game answer question correctli alexa say got wrong answer like abl turn light away home', 'lot fun thing yr old learn dinosaur control light play game like categori nice sound play music well', 'music']\n"
          ]
        }
      ],
      "source": [
        "for i in range(len(reviews)):\n",
        "    reviews[i] = \" \".join(map(str, reviews[i]))\n",
        "\n",
        "print(reviews[0:5])"
      ]
    },
    {
      "cell_type": "markdown",
      "source": [
        "####Performing word vectorization on review text using Bag of Words technique"
      ],
      "metadata": {
        "id": "IbKC_dUS9zoS"
      }
    },
    {
      "cell_type": "code",
      "execution_count": null,
      "metadata": {
        "id": "NmlbjKhk8YOI",
        "outputId": "3d90131b-7dee-4cc4-8e41-0e4b28a601e3"
      },
      "outputs": [
        {
          "name": "stdout",
          "output_type": "stream",
          "text": [
            "Bag of Words\n",
            "['abay', 'abc', 'abd', 'abil', 'abl', 'abod', 'absolut', 'absolutli', 'ac', 'accent', 'accept', 'access', 'accessori', 'accid', 'accident', 'accompani', 'accomplish', 'accord', 'accordingli', 'account', 'accur', 'accuraci', 'accustom', 'acknowledg', 'acoust', 'across', 'act', 'action', 'activ', 'actual', 'ad', 'adapt', 'add', 'addict', 'addit', 'addon', 'address', 'adept', 'adequ', 'adjac', 'adjust', 'admit', 'adopt', 'ador', 'adult', 'advanc', 'advantag', 'advertis', 'advic', 'advis', 'aesthet', 'af', 'affirm', 'afford', 'afraid', 'afternoon', 'afterward', 'age', 'agent', 'ago', 'agre', 'agreement', 'ahead', 'ai', 'aid', 'aint', 'air', 'aka', 'al', 'alabama', 'alarm', 'albeit', 'alcohol', 'alert', 'alex', 'alexa', 'alexi', 'alexia', 'alexu', 'algo', 'aliv', 'allevi', 'allow', 'allrecip', 'almost', 'alon', 'along', 'alongsid', 'alot', 'aloud', 'alread', 'alreadi', 'alright', 'also', 'alter', 'altern', 'although', 'alway', 'amaonmaz', 'amax', 'amaz', 'amazin', 'amazingli', 'amazo', 'amazon', 'amazonia', 'ambient', 'american', 'among', 'amount', 'amozon', 'amplifi', 'amus', 'analog', 'and', 'android', 'angl', 'annoy', 'anoth', 'answer', 'ant', 'anticip', 'anybodi', 'anyhow', 'anylist', 'anymor', 'anyon', 'anypod', 'anyth', 'anytim', 'anyway', 'anywher', 'apart', 'app', 'appar', 'appeal', 'appear', 'appl', 'applianc', 'applic', 'appoint', 'appreci', 'apprehens', 'approach', 'appropri', 'approxim', 'area', 'arent', 'argu', 'argument', 'aris', 'arlo', 'arm', 'around', 'array', 'arriv', 'articl', 'artist', 'as', 'asap', 'ase', 'ask', 'asleep', 'aspect', 'assign', 'assist', 'assum', 'assumpt', 'atención', 'atmospher', 'atrá', 'attach', 'attempt', 'attent', 'attract', 'audibl', 'audio', 'audioappl', 'audiobook', 'audiophil', 'august', 'aunt', 'auto', 'autom', 'automat', 'aux', 'auxiliari', 'av', 'avail', 'avoid', 'aw', 'awak', 'awar', 'away', 'awesom', 'awhil', 'awkward', 'awsom', 'babi', 'back', 'background', 'backyard', 'bad', 'baffl', 'ball', 'ban', 'band', 'bandwagon', 'bandwidth', 'bang', 'bar', 'bare', 'bargain', 'bark', 'barn', 'barret', 'barri', 'base', 'basebal', 'basement', 'basic', 'bass', 'bathroom', 'batman', 'batteri', 'bc', 'beam', 'beat', 'beauti', 'becam', 'becauss', 'becom', 'bed', 'bedroom', 'bedsid', 'bedtim', 'beefi', 'begin', 'beginn', 'begun', 'behav', 'behind', 'believ', 'bell', 'belong', 'benefit', 'besid', 'best', 'bet', 'beta', 'better', 'bettter', 'beyond', 'bezel', 'bezo', 'bf', 'bff', 'bibl', 'big', 'bigger', 'biggest', 'bill', 'billboard', 'bing', 'birth', 'birthday', 'bit', 'bizarr', 'black', 'blanket', 'blast', 'bless', 'blind', 'blink', 'block', 'blood', 'bloomberg', 'blow', 'blown', 'blue', 'blueprint', 'bluetooth', 'blur', 'board', 'boat', 'bob', 'bodi', 'bolt', 'bonker', 'bonu', 'book', 'boom', 'boombox', 'boost', 'bore', 'born', 'bos', 'bose', 'bot', 'bother', 'bothersom', 'bottom', 'bough', 'bought', 'box', 'boyfriend', 'brand', 'brandnew', 'bread', 'break', 'breakfast', 'breez', 'bridg', 'brief', 'bright', 'bring', 'british', 'broadway', 'broke', 'broken', 'brought', 'bt', 'buck', 'buddi', 'budget', 'buffer', 'buffet', 'bug', 'build', 'built', 'bulb', 'buld', 'bulki', 'bum', 'bunch', 'bundl', 'burn', 'busi', 'but', 'button', 'buy', 'buyer', 'buzz', 'bye', 'ca', 'cabl', 'calendar', 'call', 'calm', 'calmer', 'cam', 'cambiar', 'came', 'camelot', 'camera', 'campu', 'canari', 'cancel', 'cant', 'capabl', 'capac', 'capas', 'car', 'card', 'cardsrot', 'care', 'careless', 'carolina', 'carri', 'carrier', 'cart', 'cartoon', 'case', 'cat', 'catch', 'categori', 'caus', 'cave', 'cb', 'cd', 'ceas', 'ceil', 'celeb', 'cell', 'cellphon', 'cent', 'center', 'certain', 'certainli', 'certifi', 'chachki', 'chair', 'chalk', 'challeng', 'champ', 'chanc', 'chang', 'changer', 'channel', 'characterist', 'charg', 'chargeabl', 'charger', 'charlott', 'charm', 'chart', 'chat', 'cheap', 'cheaper', 'cheapest', 'check', 'child', 'childhood', 'chocol', 'choic', 'choos', 'choppi', 'chore', 'chose', 'chosen', 'christma', 'chromebook', 'chromecast', 'circl', 'citi', 'citizen', 'clapper', 'clariti', 'class', 'classic', 'classroom', 'clean', 'cleaner', 'clear', 'clearer', 'clearli', 'click', 'client', 'clip', 'clock', 'clockhom', 'clone', 'close', 'closer', 'cloth', 'cloud', 'clue', 'cnn', 'coast', 'code', 'coffe', 'cohes', 'collect', 'collector', 'colleg', 'colon', 'color', 'comand', 'combin', 'come', 'comelet', 'comfort', 'command', 'comment', 'commerci', 'commod', 'common', 'commun', 'commut', 'como', 'compac', 'compact', 'compani', 'companion', 'compar', 'compat', 'competit', 'complain', 'complaint', 'complet', 'complic', 'compliment', 'compon', 'compound', 'comput', 'con', 'concept', 'concern', 'concis', 'condit', 'conectado', 'conferenc', 'confid', 'configur', 'conflict', 'confus', 'connect', 'consciou', 'consid', 'consist', 'conspiraci', 'constant', 'constantli', 'construct', 'consult', 'consum', 'contact', 'contain', 'content', 'contin', 'continu', 'control', 'conveni', 'convers', 'convert', 'convinc', 'cook', 'cool', 'cooler', 'coolest', 'coop', 'coordin', 'cord', 'cordless', 'cordthank', 'core', 'correct', 'correctli', 'correspond', 'cortna', 'cost', 'cotton', 'couch', 'could', 'counter', 'counti', 'countless', 'countri', 'coupl', 'cours', 'cousin', 'cover', 'cozi', 'cpr', 'crack', 'crackl', 'crap', 'crappi', 'crash', 'crazi', 'creapi', 'creat', 'credit', 'creepi', 'crib', 'crisp', 'critic', 'crop', 'cross', 'crunchyrol', 'csi', 'cualquier', 'cue', 'cumbersom', 'cup', 'cur', 'current', 'curv', 'custom', 'customiz', 'cut', 'cute', 'cuti', 'cycl', 'cylind', 'cylinderc', 'dad', 'daili', 'damag', 'danc', 'dare', 'dark', 'darn', 'dash', 'data', 'date', 'daughter', 'day', 'de', 'deactiv', 'dead', 'deaf', 'deal', 'debat', 'dec', 'decent', 'decid', 'decis', 'deck', 'decor', 'decreas', 'dedic', 'deep', 'deeper', 'default', 'defeat', 'defect', 'defenc', 'defent', 'defin', 'definit', 'degre', 'del', 'delay', 'delet', 'deliv', 'deliveri', 'demand', 'dementia', 'den', 'denon', 'dent', 'depart', 'depend', 'deploy', 'depreci', 'depth', 'describ', 'descript', 'design', 'desir', 'desk', 'despit', 'detail', 'detect', 'determin', 'develop', 'devi', 'devic', 'deviceoveral', 'dhiw', 'diagnost', 'dial', 'dictionari', 'didnt', 'die', 'differ', 'differenti', 'difficult', 'difficulti', 'dig', 'digit', 'digitol', 'dim', 'dimat', 'dimens', 'dimmer', 'dine', 'dinner', 'dinosaur', 'direct', 'directli', 'directtv', 'directv', 'disabl', 'disagre', 'disappoint', 'disarm', 'disast', 'disconcert', 'disconnect', 'discount', 'discourag', 'discov', 'discoveredthat', 'discoveri', 'dish', 'dislik', 'dismiss', 'display', 'dispos', 'dissatisfact', 'distanc', 'distort', 'distract', 'disturb', 'ditch', 'diver', 'divertido', 'dj', 'dock', 'doctor', 'dodg', 'doesnt', 'dog', 'dollar', 'domain', 'done', 'dont', 'door', 'doorbel', 'dorm', 'dot', 'doubt', 'downfal', 'download', 'downright', 'downsid', 'downstair', 'drag', 'draw', 'drawback', 'dress', 'drive', 'driven', 'driver', 'drop', 'dryer', 'due', 'dumb', 'dumber', 'dunc', 'dunno', 'dust', 'duti', 'dylan', 'ea', 'ear', 'earli', 'earn', 'easi', 'easier', 'easili', 'east', 'eavesdrop', 'echo', 'echoplu', 'eco', 'ecoo', 'ecosystem', 'ed', 'edg', 'edit', 'educ', 'eeaanh', 'effect', 'effici', 'effort', 'effortless', 'eg', 'eh', 'either', 'el', 'elderli', 'electeon', 'electr', 'electrician', 'electron', 'eleg', 'element', 'elimin', 'elsewher', 'em', 'email', 'embarrass', 'emerg', 'emoji', 'employe', 'en', 'enabl', 'encyclopedia', 'end', 'endless', 'engag', 'engin', 'english', 'enhanc', 'enjoy', 'enough', 'enrol', 'enter', 'entertain', 'entir', 'entri', 'eq', 'equal', 'equip', 'equipo', 'error', 'escencia', 'esp', 'espanol', 'español', 'especi', 'essenti', 'est', 'esta', 'estar', 'estudio', 'esté', 'etc', 'etekc', 'ethernet', 'evalu', 'even', 'event', 'eventu', 'ever', 'everi', 'everybodi', 'everyday', 'everyon', 'everyth', 'everytim', 'everywher', 'eveyday', 'evolv', 'evryth', 'ex', 'exact', 'exactli', 'exampl', 'exce', 'exceed', 'excel', 'excelent', 'except', 'excess', 'exchang', 'excit', 'excus', 'exho', 'exist', 'expand', 'expect', 'expens', 'experi', 'experienc', 'expert', 'expir', 'explan', 'explicit', 'explor', 'extend', 'extens', 'extent', 'extern', 'extra', 'extrem', 'extrimelli', 'eye', 'fabric', 'fabul', 'face', 'facebook', 'facetim', 'fact', 'factor', 'factori', 'fail', 'fair', 'fairli', 'fall', 'fals', 'famili', 'familiar', 'fan', 'fanat', 'fantast', 'far', 'farther', 'fascin', 'fashion', 'fast', 'faster', 'fat', 'father', 'fault', 'faulti', 'favorit', 'featu', 'featur', 'fee', 'feed', 'feedback', 'feee', 'feel', 'fell', 'felt', 'fenc', 'fi', 'fianc', 'fidel', 'figur', 'fill', 'final', 'find', 'fine', 'fingertip', 'finicki', 'finish', 'fio', 'fire', 'firestick', 'firmar', 'firmwar', 'first', 'fit', 'five', 'fix', 'fixtur', 'flash', 'flat', 'flaw', 'flawless', 'flawlessli', 'flexibl', 'flicker', 'floor', 'fm', 'folk', 'follow', 'font', 'foot', 'footbal', 'footprint', 'forc', 'forecast', 'forev', 'forget', 'forgot', 'forgotten', 'forjust', 'form', 'forth', 'fortun', 'forum', 'forward', 'found', 'four', 'fourth', 'free', 'freez', 'frequent', 'fri', 'friday', 'friend', 'friendli', 'front', 'frustrat', 'full', 'fuller', 'fulli', 'fumbl', 'fun', 'funcion', 'funciona', 'funcionamiento', 'function', 'funni', 'furthermor', 'fuss', 'fussi', 'futur', 'fw', 'gadget', 'gain', 'galaxi', 'game', 'gap', 'garag', 'garbag', 'gateway', 'gather', 'gave', 'gazebo', 'gb', 'ge', 'gear', 'geek', 'gen', 'gender', 'gener', 'genial', 'genr', 'geo', 'get', 'gf', 'ghost', 'gift', 'girl', 'girlfriend', 'give', 'given', 'gizmo', 'glad', 'glare', 'glass', 'glitch', 'glorifi', 'glow', 'go', 'god', 'godsend', 'goe', 'golden', 'gone', 'goo', 'good', 'goodi', 'goodmorn', 'googl', 'got', 'gotten', 'govern', 'grab', 'grace', 'grand', 'grandaught', 'grandchild', 'granddaught', 'grandfath', 'grandkid', 'grandmoth', 'grandpar', 'grandson', 'granit', 'grant', 'graphic', 'gratament', 'great', 'greater', 'greatest', 'greatli', 'green', 'greet', 'grip', 'gripe', 'groceri', 'groggi', 'ground', 'group', 'grow', 'grownup', 'guarante', 'guard', 'guess', 'guest', 'guid', 'guilti', 'guy', 'habit', 'habla', 'haha', 'hahaawesom', 'hahahaha', 'hair', 'hal', 'half', 'hallway', 'hand', 'handi', 'handl', 'hang', 'happen', 'happi', 'happier', 'hard', 'hardcor', 'harder', 'hardli', 'harmoni', 'harvard', 'hassel', 'hassl', 'hate', 'hauler', 'havent', 'haywir', 'hbo', 'hcfe', 'hd', 'hdmi', 'he', 'head', 'headlin', 'headphon', 'heal', 'hear', 'heard', 'heart', 'heaven', 'heavi', 'heck', 'hectic', 'hel', 'held', 'hell', 'help', 'helper', 'henc', 'hesit', 'hey', 'hi', 'hiccup', 'hide', 'high', 'higher', 'highest', 'highli', 'hint', 'hire', 'histori', 'hit', 'hmm', 'hmmm', 'hmmmm', 'hold', 'holder', 'hole', 'holi', 'holiday', 'home', 'homescreen', 'homework', 'honest', 'honestli', 'hong', 'hook', 'hope', 'hora', 'horribl', 'hors', 'hospit', 'host', 'hot', 'hotel', 'hour', 'hous', 'household', 'howev', 'hr', 'http', 'hub', 'hubbi', 'hue', 'huel', 'huge', 'hulu', 'human', 'humour', 'hundr', 'husband', 'hut', 'hvac', 'hype', 'id', 'idea', 'ideal', 'if', 'ight', 'ignor', 'iheart', 'iheartradio', 'ihom', 'ii', 'illustr', 'im', 'imag', 'imagin', 'imhav', 'immedi', 'impair', 'imped', 'imperfect', 'implement', 'import', 'importantli', 'impress', 'improv', 'impuls', 'imrprov', 'imu', 'inabl', 'inact', 'includ', 'inclus', 'incom', 'inconveni', 'incorpor', 'increas', 'incred', 'india', 'indic', 'indispens', 'individu', 'indoor', 'indund', 'industri', 'inexpens', 'inexperi', 'infact', 'inferior', 'info', 'inform', 'información', 'infotain', 'initi', 'inlin', 'innov', 'input', 'insan', 'insert', 'insid', 'insist', 'inspir', 'instal', 'instant', 'instantan', 'instantli', 'instead', 'instruct', 'integr', 'intelag', 'inteligent', 'intellig', 'intend', 'intent', 'interact', 'intercom', 'interest', 'interfac', 'interfer', 'intermitt', 'intern', 'internet', 'interpret', 'interrog', 'interrupt', 'intimid', 'introduc', 'introduct', 'intrus', 'intuit', 'invas', 'invent', 'invest', 'invit', 'involv', 'iot', 'iov', 'ipad', 'ipdat', 'iphon', 'irrit', 'ise', 'ish', 'island', 'isnt', 'isol', 'issu', 'isu', 'ita', 'itali', 'italian', 'item', 'itun', 'iy', 'jack', 'jacuzzi', 'jam', 'jaw', 'jazz', 'jeapordi', 'jeff', 'jeopardi', 'jetson', 'jimmi', 'job', 'johnni', 'join', 'joke', 'journey', 'joy', 'jump', 'june', 'junk', 'kasa', 'keen', 'keep', 'keeper', 'kept', 'key', 'keyboard', 'kick', 'kid', 'killer', 'kind', 'kinda', 'kindl', 'king', 'kitchen', 'knee', 'knew', 'knob', 'knock', 'know', 'knowledg', 'known', 'kodi', 'kong', 'korea', 'kwikset', 'la', 'label', 'lack', 'ladi', 'lag', 'lame', 'lamp', 'land', 'languag', 'lap', 'laptop', 'larg', 'larger', 'last', 'lastli', 'late', 'later', 'laud', 'laugh', 'laughter', 'laundri', 'law', 'lay', 'layer', 'lazi', 'lcd', 'le', 'lean', 'leari', 'learn', 'learnimg', 'least', 'leav', 'led', 'left', 'leg', 'legal', 'leisur', 'length', 'lesson', 'let', 'level', 'lg', 'librari', 'life', 'lifetim', 'lifht', 'light', 'lightbulb', 'lighten', 'lightn', 'like', 'lil', 'lilttl', 'limit', 'line', 'link', 'list', 'listen', 'lit', 'liter', 'littl', 'live', 'livingroom', 'llama', 'llegó', 'lm', 'lo', 'load', 'local', 'locat', 'lock', 'logitech', 'logo', 'logra', 'lol', 'lolol', 'lone', 'long', 'longer', 'longev', 'loo', 'look', 'looooooov', 'lose', 'loss', 'lost', 'lot', 'loud', 'louder', 'loui', 'lov', 'love', 'lover', 'low', 'lower', 'luck', 'lucki', 'luckili', 'lullabi', 'lurk', 'luv', 'lve', 'lyric', 'mac', 'machin', 'madden', 'made', 'madlib', 'magic', 'mail', 'main', 'mainli', 'mainstream', 'maintain', 'maje', 'majel', 'major', 'make', 'male', 'malon', 'mama', 'man', 'manag', 'mandatori', 'maneuv', 'mani', 'manner', 'manual', 'manufactur', 'margin', 'mark', 'market', 'marvel', 'massiv', 'match', 'materi', 'matter', 'maxim', 'may', 'mayb', 'mb', 'mean', 'meaning', 'meant', 'medic', 'mediocr', 'medit', 'medium', 'meh', 'member', 'membership', 'memori', 'mention', 'menu', 'mere', 'mess', 'messag', 'met', 'metro', 'mexico', 'mi', 'miami', 'mic', 'microphon', 'mid', 'middl', 'might', 'mile', 'million', 'mimic', 'min', 'mind', 'mindset', 'mine', 'mini', 'minim', 'minimum', 'minor', 'minorli', 'mint', 'minut', 'mirror', 'misl', 'misplac', 'miss', 'mistak', 'misunderstand', 'mix', 'moana', 'mobil', 'mode', 'model', 'modern', 'mom', 'moment', 'money', 'monitor', 'month', 'monthli', 'mood', 'morn', 'mostli', 'mother', 'motiv', 'motown', 'mount', 'move', 'movi', 'mu', 'much', 'muffl', 'multi', 'multipl', 'music', 'must', 'mute', 'muy', 'mybedroom', 'múltipl', 'na', 'name', 'nana', 'nanni', 'nativ', 'natur', 'navig', 'naw', 'nbc', 'nbsp', 'nc', 'nd', 'ne', 'near', 'nearli', 'neat', 'necess', 'need', 'neg', 'neighbor', 'neither', 'nephew', 'nervana', 'nervou', 'nest', 'net', 'netflix', 'network', 'never', 'new', 'newer', 'newest', 'news', 'newsflash', 'nexia', 'next', 'nfl', 'ni', 'nice', 'nicer', 'niec', 'nigh', 'night', 'nightmar', 'nightstand', 'nil', 'nit', 'nite', 'no', 'nobodi', 'noi', 'nois', 'non', 'none', 'nonsens', 'nope', 'norm', 'normal', 'north', 'note', 'noth', 'notic', 'notif', 'notifi', 'novelti', 'nowher', 'npr', 'nrw', 'nsa', 'nudg', 'numb', 'number', 'numer', 'nurs', 'nut', 'ny', 'ob', 'obtrus', 'obviou', 'occas', 'occasion', 'ocean', 'odd', 'of', 'offer', 'offic', 'offici', 'often', 'oh', 'ok', 'okay', 'old', 'older', 'oldest', 'olor', 'omg', 'onceproblem', 'one', 'onetim', 'onlin', 'onm', 'onto', 'oop', 'open', 'oper', 'opera', 'opinion', 'opportun', 'opt', 'optic', 'optimum', 'option', 'orang', 'orchestra', 'order', 'organ', 'orient', 'origin', 'original', 'other', 'otherwis', 'outdoor', 'outlet', 'output', 'outrag', 'outsid', 'outsmart', 'outstand', 'oven', 'overa', 'overal', 'overcom', 'overh', 'overpr', 'overrid', 'overtim', 'overview', 'overwhelm', 'owe', 'owlhead', 'own', 'owner', 'pack', 'packag', 'page', 'paid', 'pain', 'pair', 'pamphlet', 'pandora', 'pant', 'paper', 'par', 'paranoid', 'pare', 'parent', 'park', 'paroduct', 'part', 'parti', 'particip', 'particular', 'particularli', 'partner', 'pas', 'password', 'past', 'patch', 'patienc', 'patient', 'patio', 'pattern', 'paus', 'pay', 'pc', 'película', 'pen', 'pencil', 'penni', 'peopl', 'pep', 'per', 'perdió', 'perfect', 'perfectli', 'perfecto', 'perform', 'perhap', 'period', 'perk', 'perman', 'persist', 'person', 'persuas', 'pet', 'phase', 'phenomen', 'philip', 'philipshu', 'philli', 'phillip', 'phone', 'phonet', 'photo', 'photograph', 'phrase', 'pia', 'pic', 'pick', 'picki', 'pictur', 'piec', 'pin', 'pivot', 'pixel', 'pizza', 'place', 'placement', 'plain', 'plan', 'plane', 'platform', 'play', 'player', 'playlist', 'plea', 'pleasantli', 'pleasedsimpl', 'pleasur', 'plenti', 'plu', 'plug', 'plugin', 'pluto', 'pod', 'podcast', 'point', 'pointless', 'polit', 'pool', 'poop', 'poor', 'pop', 'porch', 'port', 'portabl', 'portion', 'pose', 'posit', 'possibl', 'post', 'poster', 'potenti', 'pound', 'power', 'powercord', 'practic', 'practicalthan', 'pray', 'precious', 'precis', 'prefer', 'premium', 'prepar', 'present', 'preset', 'press', 'presum', 'pretti', 'prettier', 'prevent', 'preview', 'previou', 'previous', 'price', 'pricey', 'primari', 'primarili', 'prime', 'primeday', 'print', 'prior', 'privaci', 'prize', 'pro', 'probabl', 'problem', 'procedur', 'process', 'produc', 'product', 'producto', 'productsand', 'profil', 'program', 'project', 'promis', 'promot', 'promp', 'prompt', 'prop', 'proper', 'properli', 'protect', 'protocol', 'prove', 'provid', 'psycholog', 'pueden', 'pul', 'pull', 'pulsat', 'punch', 'puni', 'pup', 'pur', 'purchas', 'pure', 'purpos', 'push', 'put', 'puzzl', 'qualiti', 'qualti', 'que', 'quedó', 'queri', 'question', 'quick', 'quicker', 'quickli', 'quiet', 'quit', 'quiz', 'quot', 'qvc', 'radio', 'rain', 'rainbow', 'rais', 'rambl', 'ran', 'random', 'randomli', 'rang', 'ranger', 'rapidez', 'rare', 'rariti', 'rate', 'rather', 'rattl', 'rciev', 'reach', 'reactiv', 'read', 'reader', 'readi', 'real', 'realiz', 'realizando', 'realli', 'reason', 'reauthor', 'reboot', 'reccomend', 'receiv', 'receivd', 'recent', 'recept', 'recharg', 'recip', 'recipi', 'recogn', 'recognit', 'recomend', 'recommend', 'recondit', 'reconnect', 'record', 'recur', 'red', 'reduc', 'redund', 'refer', 'refin', 'refund', 'refurb', 'refurbish', 'refurbishedthought', 'regard', 'regardless', 'region', 'regist', 'regret', 'regular', 'regularli', 'rel', 'relat', 'relax', 'relay', 'releas', 'reli', 'reliabl', 'relief', 'remain', 'remedi', 'rememb', 'remind', 'remors', 'remot', 'renam', 'rent', 'reoccur', 'reorder', 'rep', 'repair', 'repeat', 'repertoir', 'replac', 'repli', 'report', 'reportsalarm', 'reput', 'request', 'requir', 'research', 'resembl', 'resempt', 'reset', 'resist', 'resolut', 'resolv', 'respond', 'respons', 'respuesta', 'rest', 'restart', 'restrict', 'result', 'resum', 'retir', 'return', 'returnef', 'review', 'revis', 'reward', 'rid', 'ride', 'ridicul', 'right', 'ring', 'river', 'road', 'rock', 'roku', 'roll', 'room', 'roomba', 'rotat', 'rough', 'round', 'rout', 'router', 'routin', 'row', 'rub', 'rubber', 'run', 'sad', 'sadli', 'safe', 'said', 'sale', 'salsa', 'samsung', 'sang', 'saniti', 'satellit', 'satisfi', 'satisifi', 'save', 'savi', 'savvi', 'saw', 'say', 'scare', 'scene', 'scent', 'schedul', 'school', 'scienc', 'scoop', 'score', 'scottish', 'scour', 'scratch', 'scream', 'screamig', 'screen', 'screenless', 'screenselect', 'screw', 'script', 'scroll', 'se', 'seal', 'seam', 'seamless', 'seamlessli', 'search', 'season', 'second', 'secret', 'secretari', 'section', 'secur', 'see', 'seem', 'seen', 'seldom', 'select', 'self', 'selfi', 'sell', 'semana', 'semi', 'sen', 'send', 'senior', 'sensit', 'sent', 'sentenc', 'separ', 'seprat', 'seri', 'seriou', 'serious', 'seriu', 'serv', 'servic', 'set', 'settin', 'settingshom', 'settl', 'setup', 'sever', 'sew', 'sh', 'shake', 'shape', 'share', 'sharp', 'shell', 'shift', 'shine', 'ship', 'shipment', 'shock', 'shoot', 'shop', 'short', 'shortcom', 'shorter', 'shortli', 'shout', 'show', 'shower', 'showman', 'shown', 'showtim', 'shuffl', 'shut', 'sibl', 'side', 'sigh', 'sight', 'sign', 'signific', 'silli', 'silver', 'similar', 'simpl', 'simpler', 'simpli', 'simplic', 'simplifi', 'simultan', 'sin', 'sinc', 'sing', 'singl', 'singley', 'sink', 'sinqu', 'siri', 'siriu', 'sister', 'sit', 'site', 'situat', 'six', 'size', 'skeptic', 'skill', 'skip', 'skype', 'sleek', 'sleep', 'sleeper', 'sleepi', 'slice', 'slide', 'slideshow', 'slight', 'slightli', 'sling', 'slow', 'slowli', 'sm', 'small', 'smaller', 'smart', 'smartbon', 'smarter', 'smarthom', 'smartphon', 'smartth', 'smell', 'smith', 'smooth', 'smoothli', 'snap', 'snarl', 'sneaki', 'snell', 'snooz', 'soak', 'soccer', 'social', 'socket', 'sofa', 'soft', 'softli', 'softwar', 'sold', 'sole', 'solid', 'solo', 'solución', 'solut', 'solv', 'somebodi', 'somehow', 'someon', 'someth', 'sometim', 'somewhat', 'son', 'song', 'soni', 'sono', 'soon', 'sooner', 'sooo', 'sooooo', 'sooooooo', 'sopt', 'sore', 'sorprendió', 'sorri', 'sort', 'sound', 'soundbar', 'soundlink', 'soundtouch', 'sourc', 'southern', 'spa', 'space', 'spam', 'span', 'spanish', 'spank', 'spark', 'speak', 'speaker', 'spec', 'special', 'specif', 'specifi', 'specifili', 'spectacular', 'speech', 'speed', 'speedi', 'spell', 'spend', 'spent', 'spi', 'spill', 'spin', 'split', 'spoil', 'spoke', 'spoken', 'sport', 'spot', 'spotifi', 'spotlight', 'spous', 'sprinkler', 'sprint', 'spur', 'squirm', 'sri', 'ssdi', 'staff', 'stage', 'stair', 'stand', 'standalon', 'standard', 'star', 'stark', 'start', 'stat', 'state', 'statement', 'station', 'stationari', 'stay', 'steam', 'steep', 'stellar', 'step', 'stereo', 'stick', 'still', 'stimulu', 'stink', 'stole', 'stop', 'storag', 'store', 'stori', 'storm', 'stove', 'straight', 'straightforward', 'strang', 'stream', 'streamlin', 'strictli', 'string', 'strip', 'strong', 'strongli', 'structur', 'struggl', 'stubborn', 'stuck', 'student', 'stuff', 'stump', 'stupid', 'sturdi', 'style', 'stylish', 'su', 'sub', 'subject', 'subpar', 'subscrib', 'subscript', 'subscriptiondo', 'subsequ', 'substitut', 'success', 'successor', 'suck', 'suffer', 'suffici', 'suffolk', 'suggest', 'suitabl', 'summon', 'sunroom', 'supberb', 'super', 'superb', 'superior', 'suppli', 'support', 'suppos', 'sure', 'surfac', 'surpris', 'surprisingli', 'surviv', 'sweet', 'swell', 'swipe', 'switch', 'sync', 'synch', 'system', 'tabl', 'tablet', 'tad', 'tailor', 'take', 'taken', 'tale', 'talk', 'tall', 'taller', 'tap', 'tape', 'tardi', 'tasha', 'task', 'teacher', 'team', 'tear', 'tec', 'tech', 'techi', 'technic', 'technician', 'techno', 'technolog', 'teenag', 'teeth', 'tekki', 'telephon', 'televis', 'tell', 'temp', 'temperatur', 'tempt', 'ten', 'tend', 'terminolog', 'terribl', 'terrif', 'test', 'texa', 'text', 'tg', 'tge', 'thank', 'that', 'theater', 'theecho', 'theme', 'theori', 'therefor', 'thermostat', 'thete', 'thick', 'thing', 'think', 'third', 'thong', 'thorough', 'thoroughli', 'thou', 'though', 'thought', 'thousand', 'three', 'thrill', 'throughout', 'throw', 'thrown', 'thru', 'thumb', 'thunderstorm', 'thursday', 'ti', 'tickl', 'tie', 'tiempo', 'tien', 'til', 'till', 'time', 'timer', 'tin', 'ting', 'tini', 'tinker', 'tinni', 'tip', 'tire', 'titl', 'tivo', 'toda', 'today', 'toddler', 'togeth', 'toilet', 'told', 'tomi', 'tomorrow', 'ton', 'tone', 'toni', 'took', 'tool', 'tooth', 'top', 'topic', 'tosca', 'total', 'totallli', 'tou', 'touch', 'tout', 'toward', 'tower', 'town', 'toy', 'track', 'tradit', 'traffic', 'trailer', 'train', 'traine', 'transfer', 'travel', 'travé', 'treadmil', 'treat', 'trebl', 'trek', 'tremend', 'trend', 'tri', 'trial', 'trick', 'tricki', 'trigger', 'trip', 'trivia', 'troubl', 'troubleshoot', 'troublesom', 'true', 'truli', 'trust', 'tube', 'tubi', 'tune', 'tunein', 'turn', 'tv', 'tweeter', 'twice', 'twist', 'twitter', 'two', 'ty', 'type', 'typic', 'título', 'ude', 'ugli', 'uhyour', 'ummm', 'un', 'unabl', 'unavail', 'unbeliev', 'uncl', 'underestim', 'understand', 'understood', 'unexpect', 'unfortun', 'unhappi', 'unhelp', 'unico', 'unimport', 'uniqu', 'unit', 'univers', 'unless', 'unlik', 'unlimit', 'unlock', 'unnannounc', 'unnecessari', 'unobtrus', 'unplug', 'unrespons', 'unsettl', 'untap', 'unus', 'unwitti', 'unwrap', 'upcom', 'updat', 'upgrad', 'upload', 'upon', 'upset', 'upstair', 'urg', 'usa', 'usabl', 'usag', 'usb', 'usd', 'use', 'useless', 'user', 'usual', 'util', 'utilización', 'vacat', 'vacuum', 'valu', 'variant', 'varieti', 'variou', 'vast', 'vehicl', 'verbal', 'vers', 'versa', 'versatil', 'version', 'versu', 'vet', 'vez', 'via', 'vibrat', 'vice', 'viceo', 'video', 'view', 'vintag', 'viola', 'virtual', 'visa', 'visibl', 'vision', 'visit', 'visual', 'vlan', 'voic', 'voiceview', 'voila', 'voltag', 'voltson', 'volum', 'vudu', 'wait', 'wake', 'walk', 'wall', 'want', 'warehous', 'warn', 'warranti', 'wasconcern', 'wasnt', 'wast', 'watch', 'water', 'wattag', 'wave', 'way', 'weak', 'wealth', 'wear', 'weari', 'weather', 'web', 'websit', 'wed', 'week', 'weekday', 'weekend', 'weekli', 'weight', 'weird', 'welcom', 'well', 'wellfour', 'went', 'what', 'whatev', 'whatsoev', 'whe', 'whenev', 'wherev', 'whether', 'whisper', 'whistl', 'white', 'who', 'whole', 'whose', 'wi', 'wide', 'widespread', 'wife', 'wifi', 'wikipedia', 'will', 'wind', 'window', 'wink', 'wireless', 'wish', 'within', 'without', 'wo', 'woke', 'woken', 'wonder', 'wont', 'woofer', 'woohoo', 'word', 'work', 'workaround', 'workout', 'workreat', 'world', 'worri', 'worst', 'worth', 'worthi', 'worthless', 'would', 'wow', 'write', 'wrong', 'xbox', 'xfiniti', 'xm', 'yale', 'yard', 'ye', 'yeah', 'year', 'yell', 'yellow', 'yep', 'yesterday', 'yet', 'yhe', 'york', 'young', 'younger', 'youngest', 'youtub', 'yr', 'yup', 'zero', 'zigbe', 'zzzz', 'zzzzzzz', 'útil']\n"
          ]
        }
      ],
      "source": [
        "from sklearn.feature_extraction.text import CountVectorizer\n",
        "\n",
        "vectoriser = CountVectorizer()\n",
        "X = vectoriser.fit_transform(reviews)\n",
        "print(\"Bag of Words\")\n",
        "print(vectoriser.get_feature_names())\n"
      ]
    },
    {
      "cell_type": "code",
      "execution_count": null,
      "metadata": {
        "id": "KZamnjxr8YOJ",
        "outputId": "8d42971d-5efd-46f2-8847-31697fcbef5b"
      },
      "outputs": [
        {
          "name": "stdout",
          "output_type": "stream",
          "text": [
            "[[0 0 0 ... 0 0 0]\n",
            " [0 0 0 ... 0 0 0]\n",
            " [0 0 0 ... 0 0 0]\n",
            " ...\n",
            " [0 0 0 ... 0 0 0]\n",
            " [0 0 0 ... 0 0 0]\n",
            " [0 0 0 ... 0 0 0]]\n"
          ]
        }
      ],
      "source": [
        "# printing vectors\n",
        "print(X.toarray())"
      ]
    },
    {
      "cell_type": "code",
      "execution_count": null,
      "metadata": {
        "id": "Sx1ZjQvh8YOK",
        "outputId": "a99650ab-ee4c-426a-c105-6ab6b4a74776"
      },
      "outputs": [
        {
          "data": {
            "text/plain": [
              "(3150, 2701)"
            ]
          },
          "execution_count": 15,
          "metadata": {},
          "output_type": "execute_result"
        }
      ],
      "source": [
        "# Shape of vector\n",
        "X.shape"
      ]
    },
    {
      "cell_type": "markdown",
      "source": [
        "####Creating representation of review text by calculating the Term Frequency and Inverse Document Frequency (TF-IDF)"
      ],
      "metadata": {
        "id": "IIQITPCE9mdA"
      }
    },
    {
      "cell_type": "code",
      "execution_count": null,
      "metadata": {
        "id": "cKg4hqDb8YOL",
        "outputId": "3d75c64d-6967-4ce8-aec9-7feb9fd30603"
      },
      "outputs": [
        {
          "name": "stdout",
          "output_type": "stream",
          "text": [
            "TFIDF:\n",
            "['abay', 'abc', 'abd', 'abil', 'abl', 'abod', 'absolut', 'absolutli', 'ac', 'accent', 'accept', 'access', 'accessori', 'accid', 'accident', 'accompani', 'accomplish', 'accord', 'accordingli', 'account', 'accur', 'accuraci', 'accustom', 'acknowledg', 'acoust', 'across', 'act', 'action', 'activ', 'actual', 'ad', 'adapt', 'add', 'addict', 'addit', 'addon', 'address', 'adept', 'adequ', 'adjac', 'adjust', 'admit', 'adopt', 'ador', 'adult', 'advanc', 'advantag', 'advertis', 'advic', 'advis', 'aesthet', 'af', 'affirm', 'afford', 'afraid', 'afternoon', 'afterward', 'age', 'agent', 'ago', 'agre', 'agreement', 'ahead', 'ai', 'aid', 'aint', 'air', 'aka', 'al', 'alabama', 'alarm', 'albeit', 'alcohol', 'alert', 'alex', 'alexa', 'alexi', 'alexia', 'alexu', 'algo', 'aliv', 'allevi', 'allow', 'allrecip', 'almost', 'alon', 'along', 'alongsid', 'alot', 'aloud', 'alread', 'alreadi', 'alright', 'also', 'alter', 'altern', 'although', 'alway', 'amaonmaz', 'amax', 'amaz', 'amazin', 'amazingli', 'amazo', 'amazon', 'amazonia', 'ambient', 'american', 'among', 'amount', 'amozon', 'amplifi', 'amus', 'analog', 'and', 'android', 'angl', 'annoy', 'anoth', 'answer', 'ant', 'anticip', 'anybodi', 'anyhow', 'anylist', 'anymor', 'anyon', 'anypod', 'anyth', 'anytim', 'anyway', 'anywher', 'apart', 'app', 'appar', 'appeal', 'appear', 'appl', 'applianc', 'applic', 'appoint', 'appreci', 'apprehens', 'approach', 'appropri', 'approxim', 'area', 'arent', 'argu', 'argument', 'aris', 'arlo', 'arm', 'around', 'array', 'arriv', 'articl', 'artist', 'as', 'asap', 'ase', 'ask', 'asleep', 'aspect', 'assign', 'assist', 'assum', 'assumpt', 'atención', 'atmospher', 'atrá', 'attach', 'attempt', 'attent', 'attract', 'audibl', 'audio', 'audioappl', 'audiobook', 'audiophil', 'august', 'aunt', 'auto', 'autom', 'automat', 'aux', 'auxiliari', 'av', 'avail', 'avoid', 'aw', 'awak', 'awar', 'away', 'awesom', 'awhil', 'awkward', 'awsom', 'babi', 'back', 'background', 'backyard', 'bad', 'baffl', 'ball', 'ban', 'band', 'bandwagon', 'bandwidth', 'bang', 'bar', 'bare', 'bargain', 'bark', 'barn', 'barret', 'barri', 'base', 'basebal', 'basement', 'basic', 'bass', 'bathroom', 'batman', 'batteri', 'bc', 'beam', 'beat', 'beauti', 'becam', 'becauss', 'becom', 'bed', 'bedroom', 'bedsid', 'bedtim', 'beefi', 'begin', 'beginn', 'begun', 'behav', 'behind', 'believ', 'bell', 'belong', 'benefit', 'besid', 'best', 'bet', 'beta', 'better', 'bettter', 'beyond', 'bezel', 'bezo', 'bf', 'bff', 'bibl', 'big', 'bigger', 'biggest', 'bill', 'billboard', 'bing', 'birth', 'birthday', 'bit', 'bizarr', 'black', 'blanket', 'blast', 'bless', 'blind', 'blink', 'block', 'blood', 'bloomberg', 'blow', 'blown', 'blue', 'blueprint', 'bluetooth', 'blur', 'board', 'boat', 'bob', 'bodi', 'bolt', 'bonker', 'bonu', 'book', 'boom', 'boombox', 'boost', 'bore', 'born', 'bos', 'bose', 'bot', 'bother', 'bothersom', 'bottom', 'bough', 'bought', 'box', 'boyfriend', 'brand', 'brandnew', 'bread', 'break', 'breakfast', 'breez', 'bridg', 'brief', 'bright', 'bring', 'british', 'broadway', 'broke', 'broken', 'brought', 'bt', 'buck', 'buddi', 'budget', 'buffer', 'buffet', 'bug', 'build', 'built', 'bulb', 'buld', 'bulki', 'bum', 'bunch', 'bundl', 'burn', 'busi', 'but', 'button', 'buy', 'buyer', 'buzz', 'bye', 'ca', 'cabl', 'calendar', 'call', 'calm', 'calmer', 'cam', 'cambiar', 'came', 'camelot', 'camera', 'campu', 'canari', 'cancel', 'cant', 'capabl', 'capac', 'capas', 'car', 'card', 'cardsrot', 'care', 'careless', 'carolina', 'carri', 'carrier', 'cart', 'cartoon', 'case', 'cat', 'catch', 'categori', 'caus', 'cave', 'cb', 'cd', 'ceas', 'ceil', 'celeb', 'cell', 'cellphon', 'cent', 'center', 'certain', 'certainli', 'certifi', 'chachki', 'chair', 'chalk', 'challeng', 'champ', 'chanc', 'chang', 'changer', 'channel', 'characterist', 'charg', 'chargeabl', 'charger', 'charlott', 'charm', 'chart', 'chat', 'cheap', 'cheaper', 'cheapest', 'check', 'child', 'childhood', 'chocol', 'choic', 'choos', 'choppi', 'chore', 'chose', 'chosen', 'christma', 'chromebook', 'chromecast', 'circl', 'citi', 'citizen', 'clapper', 'clariti', 'class', 'classic', 'classroom', 'clean', 'cleaner', 'clear', 'clearer', 'clearli', 'click', 'client', 'clip', 'clock', 'clockhom', 'clone', 'close', 'closer', 'cloth', 'cloud', 'clue', 'cnn', 'coast', 'code', 'coffe', 'cohes', 'collect', 'collector', 'colleg', 'colon', 'color', 'comand', 'combin', 'come', 'comelet', 'comfort', 'command', 'comment', 'commerci', 'commod', 'common', 'commun', 'commut', 'como', 'compac', 'compact', 'compani', 'companion', 'compar', 'compat', 'competit', 'complain', 'complaint', 'complet', 'complic', 'compliment', 'compon', 'compound', 'comput', 'con', 'concept', 'concern', 'concis', 'condit', 'conectado', 'conferenc', 'confid', 'configur', 'conflict', 'confus', 'connect', 'consciou', 'consid', 'consist', 'conspiraci', 'constant', 'constantli', 'construct', 'consult', 'consum', 'contact', 'contain', 'content', 'contin', 'continu', 'control', 'conveni', 'convers', 'convert', 'convinc', 'cook', 'cool', 'cooler', 'coolest', 'coop', 'coordin', 'cord', 'cordless', 'cordthank', 'core', 'correct', 'correctli', 'correspond', 'cortna', 'cost', 'cotton', 'couch', 'could', 'counter', 'counti', 'countless', 'countri', 'coupl', 'cours', 'cousin', 'cover', 'cozi', 'cpr', 'crack', 'crackl', 'crap', 'crappi', 'crash', 'crazi', 'creapi', 'creat', 'credit', 'creepi', 'crib', 'crisp', 'critic', 'crop', 'cross', 'crunchyrol', 'csi', 'cualquier', 'cue', 'cumbersom', 'cup', 'cur', 'current', 'curv', 'custom', 'customiz', 'cut', 'cute', 'cuti', 'cycl', 'cylind', 'cylinderc', 'dad', 'daili', 'damag', 'danc', 'dare', 'dark', 'darn', 'dash', 'data', 'date', 'daughter', 'day', 'de', 'deactiv', 'dead', 'deaf', 'deal', 'debat', 'dec', 'decent', 'decid', 'decis', 'deck', 'decor', 'decreas', 'dedic', 'deep', 'deeper', 'default', 'defeat', 'defect', 'defenc', 'defent', 'defin', 'definit', 'degre', 'del', 'delay', 'delet', 'deliv', 'deliveri', 'demand', 'dementia', 'den', 'denon', 'dent', 'depart', 'depend', 'deploy', 'depreci', 'depth', 'describ', 'descript', 'design', 'desir', 'desk', 'despit', 'detail', 'detect', 'determin', 'develop', 'devi', 'devic', 'deviceoveral', 'dhiw', 'diagnost', 'dial', 'dictionari', 'didnt', 'die', 'differ', 'differenti', 'difficult', 'difficulti', 'dig', 'digit', 'digitol', 'dim', 'dimat', 'dimens', 'dimmer', 'dine', 'dinner', 'dinosaur', 'direct', 'directli', 'directtv', 'directv', 'disabl', 'disagre', 'disappoint', 'disarm', 'disast', 'disconcert', 'disconnect', 'discount', 'discourag', 'discov', 'discoveredthat', 'discoveri', 'dish', 'dislik', 'dismiss', 'display', 'dispos', 'dissatisfact', 'distanc', 'distort', 'distract', 'disturb', 'ditch', 'diver', 'divertido', 'dj', 'dock', 'doctor', 'dodg', 'doesnt', 'dog', 'dollar', 'domain', 'done', 'dont', 'door', 'doorbel', 'dorm', 'dot', 'doubt', 'downfal', 'download', 'downright', 'downsid', 'downstair', 'drag', 'draw', 'drawback', 'dress', 'drive', 'driven', 'driver', 'drop', 'dryer', 'due', 'dumb', 'dumber', 'dunc', 'dunno', 'dust', 'duti', 'dylan', 'ea', 'ear', 'earli', 'earn', 'easi', 'easier', 'easili', 'east', 'eavesdrop', 'echo', 'echoplu', 'eco', 'ecoo', 'ecosystem', 'ed', 'edg', 'edit', 'educ', 'eeaanh', 'effect', 'effici', 'effort', 'effortless', 'eg', 'eh', 'either', 'el', 'elderli', 'electeon', 'electr', 'electrician', 'electron', 'eleg', 'element', 'elimin', 'elsewher', 'em', 'email', 'embarrass', 'emerg', 'emoji', 'employe', 'en', 'enabl', 'encyclopedia', 'end', 'endless', 'engag', 'engin', 'english', 'enhanc', 'enjoy', 'enough', 'enrol', 'enter', 'entertain', 'entir', 'entri', 'eq', 'equal', 'equip', 'equipo', 'error', 'escencia', 'esp', 'espanol', 'español', 'especi', 'essenti', 'est', 'esta', 'estar', 'estudio', 'esté', 'etc', 'etekc', 'ethernet', 'evalu', 'even', 'event', 'eventu', 'ever', 'everi', 'everybodi', 'everyday', 'everyon', 'everyth', 'everytim', 'everywher', 'eveyday', 'evolv', 'evryth', 'ex', 'exact', 'exactli', 'exampl', 'exce', 'exceed', 'excel', 'excelent', 'except', 'excess', 'exchang', 'excit', 'excus', 'exho', 'exist', 'expand', 'expect', 'expens', 'experi', 'experienc', 'expert', 'expir', 'explan', 'explicit', 'explor', 'extend', 'extens', 'extent', 'extern', 'extra', 'extrem', 'extrimelli', 'eye', 'fabric', 'fabul', 'face', 'facebook', 'facetim', 'fact', 'factor', 'factori', 'fail', 'fair', 'fairli', 'fall', 'fals', 'famili', 'familiar', 'fan', 'fanat', 'fantast', 'far', 'farther', 'fascin', 'fashion', 'fast', 'faster', 'fat', 'father', 'fault', 'faulti', 'favorit', 'featu', 'featur', 'fee', 'feed', 'feedback', 'feee', 'feel', 'fell', 'felt', 'fenc', 'fi', 'fianc', 'fidel', 'figur', 'fill', 'final', 'find', 'fine', 'fingertip', 'finicki', 'finish', 'fio', 'fire', 'firestick', 'firmar', 'firmwar', 'first', 'fit', 'five', 'fix', 'fixtur', 'flash', 'flat', 'flaw', 'flawless', 'flawlessli', 'flexibl', 'flicker', 'floor', 'fm', 'folk', 'follow', 'font', 'foot', 'footbal', 'footprint', 'forc', 'forecast', 'forev', 'forget', 'forgot', 'forgotten', 'forjust', 'form', 'forth', 'fortun', 'forum', 'forward', 'found', 'four', 'fourth', 'free', 'freez', 'frequent', 'fri', 'friday', 'friend', 'friendli', 'front', 'frustrat', 'full', 'fuller', 'fulli', 'fumbl', 'fun', 'funcion', 'funciona', 'funcionamiento', 'function', 'funni', 'furthermor', 'fuss', 'fussi', 'futur', 'fw', 'gadget', 'gain', 'galaxi', 'game', 'gap', 'garag', 'garbag', 'gateway', 'gather', 'gave', 'gazebo', 'gb', 'ge', 'gear', 'geek', 'gen', 'gender', 'gener', 'genial', 'genr', 'geo', 'get', 'gf', 'ghost', 'gift', 'girl', 'girlfriend', 'give', 'given', 'gizmo', 'glad', 'glare', 'glass', 'glitch', 'glorifi', 'glow', 'go', 'god', 'godsend', 'goe', 'golden', 'gone', 'goo', 'good', 'goodi', 'goodmorn', 'googl', 'got', 'gotten', 'govern', 'grab', 'grace', 'grand', 'grandaught', 'grandchild', 'granddaught', 'grandfath', 'grandkid', 'grandmoth', 'grandpar', 'grandson', 'granit', 'grant', 'graphic', 'gratament', 'great', 'greater', 'greatest', 'greatli', 'green', 'greet', 'grip', 'gripe', 'groceri', 'groggi', 'ground', 'group', 'grow', 'grownup', 'guarante', 'guard', 'guess', 'guest', 'guid', 'guilti', 'guy', 'habit', 'habla', 'haha', 'hahaawesom', 'hahahaha', 'hair', 'hal', 'half', 'hallway', 'hand', 'handi', 'handl', 'hang', 'happen', 'happi', 'happier', 'hard', 'hardcor', 'harder', 'hardli', 'harmoni', 'harvard', 'hassel', 'hassl', 'hate', 'hauler', 'havent', 'haywir', 'hbo', 'hcfe', 'hd', 'hdmi', 'he', 'head', 'headlin', 'headphon', 'heal', 'hear', 'heard', 'heart', 'heaven', 'heavi', 'heck', 'hectic', 'hel', 'held', 'hell', 'help', 'helper', 'henc', 'hesit', 'hey', 'hi', 'hiccup', 'hide', 'high', 'higher', 'highest', 'highli', 'hint', 'hire', 'histori', 'hit', 'hmm', 'hmmm', 'hmmmm', 'hold', 'holder', 'hole', 'holi', 'holiday', 'home', 'homescreen', 'homework', 'honest', 'honestli', 'hong', 'hook', 'hope', 'hora', 'horribl', 'hors', 'hospit', 'host', 'hot', 'hotel', 'hour', 'hous', 'household', 'howev', 'hr', 'http', 'hub', 'hubbi', 'hue', 'huel', 'huge', 'hulu', 'human', 'humour', 'hundr', 'husband', 'hut', 'hvac', 'hype', 'id', 'idea', 'ideal', 'if', 'ight', 'ignor', 'iheart', 'iheartradio', 'ihom', 'ii', 'illustr', 'im', 'imag', 'imagin', 'imhav', 'immedi', 'impair', 'imped', 'imperfect', 'implement', 'import', 'importantli', 'impress', 'improv', 'impuls', 'imrprov', 'imu', 'inabl', 'inact', 'includ', 'inclus', 'incom', 'inconveni', 'incorpor', 'increas', 'incred', 'india', 'indic', 'indispens', 'individu', 'indoor', 'indund', 'industri', 'inexpens', 'inexperi', 'infact', 'inferior', 'info', 'inform', 'información', 'infotain', 'initi', 'inlin', 'innov', 'input', 'insan', 'insert', 'insid', 'insist', 'inspir', 'instal', 'instant', 'instantan', 'instantli', 'instead', 'instruct', 'integr', 'intelag', 'inteligent', 'intellig', 'intend', 'intent', 'interact', 'intercom', 'interest', 'interfac', 'interfer', 'intermitt', 'intern', 'internet', 'interpret', 'interrog', 'interrupt', 'intimid', 'introduc', 'introduct', 'intrus', 'intuit', 'invas', 'invent', 'invest', 'invit', 'involv', 'iot', 'iov', 'ipad', 'ipdat', 'iphon', 'irrit', 'ise', 'ish', 'island', 'isnt', 'isol', 'issu', 'isu', 'ita', 'itali', 'italian', 'item', 'itun', 'iy', 'jack', 'jacuzzi', 'jam', 'jaw', 'jazz', 'jeapordi', 'jeff', 'jeopardi', 'jetson', 'jimmi', 'job', 'johnni', 'join', 'joke', 'journey', 'joy', 'jump', 'june', 'junk', 'kasa', 'keen', 'keep', 'keeper', 'kept', 'key', 'keyboard', 'kick', 'kid', 'killer', 'kind', 'kinda', 'kindl', 'king', 'kitchen', 'knee', 'knew', 'knob', 'knock', 'know', 'knowledg', 'known', 'kodi', 'kong', 'korea', 'kwikset', 'la', 'label', 'lack', 'ladi', 'lag', 'lame', 'lamp', 'land', 'languag', 'lap', 'laptop', 'larg', 'larger', 'last', 'lastli', 'late', 'later', 'laud', 'laugh', 'laughter', 'laundri', 'law', 'lay', 'layer', 'lazi', 'lcd', 'le', 'lean', 'leari', 'learn', 'learnimg', 'least', 'leav', 'led', 'left', 'leg', 'legal', 'leisur', 'length', 'lesson', 'let', 'level', 'lg', 'librari', 'life', 'lifetim', 'lifht', 'light', 'lightbulb', 'lighten', 'lightn', 'like', 'lil', 'lilttl', 'limit', 'line', 'link', 'list', 'listen', 'lit', 'liter', 'littl', 'live', 'livingroom', 'llama', 'llegó', 'lm', 'lo', 'load', 'local', 'locat', 'lock', 'logitech', 'logo', 'logra', 'lol', 'lolol', 'lone', 'long', 'longer', 'longev', 'loo', 'look', 'looooooov', 'lose', 'loss', 'lost', 'lot', 'loud', 'louder', 'loui', 'lov', 'love', 'lover', 'low', 'lower', 'luck', 'lucki', 'luckili', 'lullabi', 'lurk', 'luv', 'lve', 'lyric', 'mac', 'machin', 'madden', 'made', 'madlib', 'magic', 'mail', 'main', 'mainli', 'mainstream', 'maintain', 'maje', 'majel', 'major', 'make', 'male', 'malon', 'mama', 'man', 'manag', 'mandatori', 'maneuv', 'mani', 'manner', 'manual', 'manufactur', 'margin', 'mark', 'market', 'marvel', 'massiv', 'match', 'materi', 'matter', 'maxim', 'may', 'mayb', 'mb', 'mean', 'meaning', 'meant', 'medic', 'mediocr', 'medit', 'medium', 'meh', 'member', 'membership', 'memori', 'mention', 'menu', 'mere', 'mess', 'messag', 'met', 'metro', 'mexico', 'mi', 'miami', 'mic', 'microphon', 'mid', 'middl', 'might', 'mile', 'million', 'mimic', 'min', 'mind', 'mindset', 'mine', 'mini', 'minim', 'minimum', 'minor', 'minorli', 'mint', 'minut', 'mirror', 'misl', 'misplac', 'miss', 'mistak', 'misunderstand', 'mix', 'moana', 'mobil', 'mode', 'model', 'modern', 'mom', 'moment', 'money', 'monitor', 'month', 'monthli', 'mood', 'morn', 'mostli', 'mother', 'motiv', 'motown', 'mount', 'move', 'movi', 'mu', 'much', 'muffl', 'multi', 'multipl', 'music', 'must', 'mute', 'muy', 'mybedroom', 'múltipl', 'na', 'name', 'nana', 'nanni', 'nativ', 'natur', 'navig', 'naw', 'nbc', 'nbsp', 'nc', 'nd', 'ne', 'near', 'nearli', 'neat', 'necess', 'need', 'neg', 'neighbor', 'neither', 'nephew', 'nervana', 'nervou', 'nest', 'net', 'netflix', 'network', 'never', 'new', 'newer', 'newest', 'news', 'newsflash', 'nexia', 'next', 'nfl', 'ni', 'nice', 'nicer', 'niec', 'nigh', 'night', 'nightmar', 'nightstand', 'nil', 'nit', 'nite', 'no', 'nobodi', 'noi', 'nois', 'non', 'none', 'nonsens', 'nope', 'norm', 'normal', 'north', 'note', 'noth', 'notic', 'notif', 'notifi', 'novelti', 'nowher', 'npr', 'nrw', 'nsa', 'nudg', 'numb', 'number', 'numer', 'nurs', 'nut', 'ny', 'ob', 'obtrus', 'obviou', 'occas', 'occasion', 'ocean', 'odd', 'of', 'offer', 'offic', 'offici', 'often', 'oh', 'ok', 'okay', 'old', 'older', 'oldest', 'olor', 'omg', 'onceproblem', 'one', 'onetim', 'onlin', 'onm', 'onto', 'oop', 'open', 'oper', 'opera', 'opinion', 'opportun', 'opt', 'optic', 'optimum', 'option', 'orang', 'orchestra', 'order', 'organ', 'orient', 'origin', 'original', 'other', 'otherwis', 'outdoor', 'outlet', 'output', 'outrag', 'outsid', 'outsmart', 'outstand', 'oven', 'overa', 'overal', 'overcom', 'overh', 'overpr', 'overrid', 'overtim', 'overview', 'overwhelm', 'owe', 'owlhead', 'own', 'owner', 'pack', 'packag', 'page', 'paid', 'pain', 'pair', 'pamphlet', 'pandora', 'pant', 'paper', 'par', 'paranoid', 'pare', 'parent', 'park', 'paroduct', 'part', 'parti', 'particip', 'particular', 'particularli', 'partner', 'pas', 'password', 'past', 'patch', 'patienc', 'patient', 'patio', 'pattern', 'paus', 'pay', 'pc', 'película', 'pen', 'pencil', 'penni', 'peopl', 'pep', 'per', 'perdió', 'perfect', 'perfectli', 'perfecto', 'perform', 'perhap', 'period', 'perk', 'perman', 'persist', 'person', 'persuas', 'pet', 'phase', 'phenomen', 'philip', 'philipshu', 'philli', 'phillip', 'phone', 'phonet', 'photo', 'photograph', 'phrase', 'pia', 'pic', 'pick', 'picki', 'pictur', 'piec', 'pin', 'pivot', 'pixel', 'pizza', 'place', 'placement', 'plain', 'plan', 'plane', 'platform', 'play', 'player', 'playlist', 'plea', 'pleasantli', 'pleasedsimpl', 'pleasur', 'plenti', 'plu', 'plug', 'plugin', 'pluto', 'pod', 'podcast', 'point', 'pointless', 'polit', 'pool', 'poop', 'poor', 'pop', 'porch', 'port', 'portabl', 'portion', 'pose', 'posit', 'possibl', 'post', 'poster', 'potenti', 'pound', 'power', 'powercord', 'practic', 'practicalthan', 'pray', 'precious', 'precis', 'prefer', 'premium', 'prepar', 'present', 'preset', 'press', 'presum', 'pretti', 'prettier', 'prevent', 'preview', 'previou', 'previous', 'price', 'pricey', 'primari', 'primarili', 'prime', 'primeday', 'print', 'prior', 'privaci', 'prize', 'pro', 'probabl', 'problem', 'procedur', 'process', 'produc', 'product', 'producto', 'productsand', 'profil', 'program', 'project', 'promis', 'promot', 'promp', 'prompt', 'prop', 'proper', 'properli', 'protect', 'protocol', 'prove', 'provid', 'psycholog', 'pueden', 'pul', 'pull', 'pulsat', 'punch', 'puni', 'pup', 'pur', 'purchas', 'pure', 'purpos', 'push', 'put', 'puzzl', 'qualiti', 'qualti', 'que', 'quedó', 'queri', 'question', 'quick', 'quicker', 'quickli', 'quiet', 'quit', 'quiz', 'quot', 'qvc', 'radio', 'rain', 'rainbow', 'rais', 'rambl', 'ran', 'random', 'randomli', 'rang', 'ranger', 'rapidez', 'rare', 'rariti', 'rate', 'rather', 'rattl', 'rciev', 'reach', 'reactiv', 'read', 'reader', 'readi', 'real', 'realiz', 'realizando', 'realli', 'reason', 'reauthor', 'reboot', 'reccomend', 'receiv', 'receivd', 'recent', 'recept', 'recharg', 'recip', 'recipi', 'recogn', 'recognit', 'recomend', 'recommend', 'recondit', 'reconnect', 'record', 'recur', 'red', 'reduc', 'redund', 'refer', 'refin', 'refund', 'refurb', 'refurbish', 'refurbishedthought', 'regard', 'regardless', 'region', 'regist', 'regret', 'regular', 'regularli', 'rel', 'relat', 'relax', 'relay', 'releas', 'reli', 'reliabl', 'relief', 'remain', 'remedi', 'rememb', 'remind', 'remors', 'remot', 'renam', 'rent', 'reoccur', 'reorder', 'rep', 'repair', 'repeat', 'repertoir', 'replac', 'repli', 'report', 'reportsalarm', 'reput', 'request', 'requir', 'research', 'resembl', 'resempt', 'reset', 'resist', 'resolut', 'resolv', 'respond', 'respons', 'respuesta', 'rest', 'restart', 'restrict', 'result', 'resum', 'retir', 'return', 'returnef', 'review', 'revis', 'reward', 'rid', 'ride', 'ridicul', 'right', 'ring', 'river', 'road', 'rock', 'roku', 'roll', 'room', 'roomba', 'rotat', 'rough', 'round', 'rout', 'router', 'routin', 'row', 'rub', 'rubber', 'run', 'sad', 'sadli', 'safe', 'said', 'sale', 'salsa', 'samsung', 'sang', 'saniti', 'satellit', 'satisfi', 'satisifi', 'save', 'savi', 'savvi', 'saw', 'say', 'scare', 'scene', 'scent', 'schedul', 'school', 'scienc', 'scoop', 'score', 'scottish', 'scour', 'scratch', 'scream', 'screamig', 'screen', 'screenless', 'screenselect', 'screw', 'script', 'scroll', 'se', 'seal', 'seam', 'seamless', 'seamlessli', 'search', 'season', 'second', 'secret', 'secretari', 'section', 'secur', 'see', 'seem', 'seen', 'seldom', 'select', 'self', 'selfi', 'sell', 'semana', 'semi', 'sen', 'send', 'senior', 'sensit', 'sent', 'sentenc', 'separ', 'seprat', 'seri', 'seriou', 'serious', 'seriu', 'serv', 'servic', 'set', 'settin', 'settingshom', 'settl', 'setup', 'sever', 'sew', 'sh', 'shake', 'shape', 'share', 'sharp', 'shell', 'shift', 'shine', 'ship', 'shipment', 'shock', 'shoot', 'shop', 'short', 'shortcom', 'shorter', 'shortli', 'shout', 'show', 'shower', 'showman', 'shown', 'showtim', 'shuffl', 'shut', 'sibl', 'side', 'sigh', 'sight', 'sign', 'signific', 'silli', 'silver', 'similar', 'simpl', 'simpler', 'simpli', 'simplic', 'simplifi', 'simultan', 'sin', 'sinc', 'sing', 'singl', 'singley', 'sink', 'sinqu', 'siri', 'siriu', 'sister', 'sit', 'site', 'situat', 'six', 'size', 'skeptic', 'skill', 'skip', 'skype', 'sleek', 'sleep', 'sleeper', 'sleepi', 'slice', 'slide', 'slideshow', 'slight', 'slightli', 'sling', 'slow', 'slowli', 'sm', 'small', 'smaller', 'smart', 'smartbon', 'smarter', 'smarthom', 'smartphon', 'smartth', 'smell', 'smith', 'smooth', 'smoothli', 'snap', 'snarl', 'sneaki', 'snell', 'snooz', 'soak', 'soccer', 'social', 'socket', 'sofa', 'soft', 'softli', 'softwar', 'sold', 'sole', 'solid', 'solo', 'solución', 'solut', 'solv', 'somebodi', 'somehow', 'someon', 'someth', 'sometim', 'somewhat', 'son', 'song', 'soni', 'sono', 'soon', 'sooner', 'sooo', 'sooooo', 'sooooooo', 'sopt', 'sore', 'sorprendió', 'sorri', 'sort', 'sound', 'soundbar', 'soundlink', 'soundtouch', 'sourc', 'southern', 'spa', 'space', 'spam', 'span', 'spanish', 'spank', 'spark', 'speak', 'speaker', 'spec', 'special', 'specif', 'specifi', 'specifili', 'spectacular', 'speech', 'speed', 'speedi', 'spell', 'spend', 'spent', 'spi', 'spill', 'spin', 'split', 'spoil', 'spoke', 'spoken', 'sport', 'spot', 'spotifi', 'spotlight', 'spous', 'sprinkler', 'sprint', 'spur', 'squirm', 'sri', 'ssdi', 'staff', 'stage', 'stair', 'stand', 'standalon', 'standard', 'star', 'stark', 'start', 'stat', 'state', 'statement', 'station', 'stationari', 'stay', 'steam', 'steep', 'stellar', 'step', 'stereo', 'stick', 'still', 'stimulu', 'stink', 'stole', 'stop', 'storag', 'store', 'stori', 'storm', 'stove', 'straight', 'straightforward', 'strang', 'stream', 'streamlin', 'strictli', 'string', 'strip', 'strong', 'strongli', 'structur', 'struggl', 'stubborn', 'stuck', 'student', 'stuff', 'stump', 'stupid', 'sturdi', 'style', 'stylish', 'su', 'sub', 'subject', 'subpar', 'subscrib', 'subscript', 'subscriptiondo', 'subsequ', 'substitut', 'success', 'successor', 'suck', 'suffer', 'suffici', 'suffolk', 'suggest', 'suitabl', 'summon', 'sunroom', 'supberb', 'super', 'superb', 'superior', 'suppli', 'support', 'suppos', 'sure', 'surfac', 'surpris', 'surprisingli', 'surviv', 'sweet', 'swell', 'swipe', 'switch', 'sync', 'synch', 'system', 'tabl', 'tablet', 'tad', 'tailor', 'take', 'taken', 'tale', 'talk', 'tall', 'taller', 'tap', 'tape', 'tardi', 'tasha', 'task', 'teacher', 'team', 'tear', 'tec', 'tech', 'techi', 'technic', 'technician', 'techno', 'technolog', 'teenag', 'teeth', 'tekki', 'telephon', 'televis', 'tell', 'temp', 'temperatur', 'tempt', 'ten', 'tend', 'terminolog', 'terribl', 'terrif', 'test', 'texa', 'text', 'tg', 'tge', 'thank', 'that', 'theater', 'theecho', 'theme', 'theori', 'therefor', 'thermostat', 'thete', 'thick', 'thing', 'think', 'third', 'thong', 'thorough', 'thoroughli', 'thou', 'though', 'thought', 'thousand', 'three', 'thrill', 'throughout', 'throw', 'thrown', 'thru', 'thumb', 'thunderstorm', 'thursday', 'ti', 'tickl', 'tie', 'tiempo', 'tien', 'til', 'till', 'time', 'timer', 'tin', 'ting', 'tini', 'tinker', 'tinni', 'tip', 'tire', 'titl', 'tivo', 'toda', 'today', 'toddler', 'togeth', 'toilet', 'told', 'tomi', 'tomorrow', 'ton', 'tone', 'toni', 'took', 'tool', 'tooth', 'top', 'topic', 'tosca', 'total', 'totallli', 'tou', 'touch', 'tout', 'toward', 'tower', 'town', 'toy', 'track', 'tradit', 'traffic', 'trailer', 'train', 'traine', 'transfer', 'travel', 'travé', 'treadmil', 'treat', 'trebl', 'trek', 'tremend', 'trend', 'tri', 'trial', 'trick', 'tricki', 'trigger', 'trip', 'trivia', 'troubl', 'troubleshoot', 'troublesom', 'true', 'truli', 'trust', 'tube', 'tubi', 'tune', 'tunein', 'turn', 'tv', 'tweeter', 'twice', 'twist', 'twitter', 'two', 'ty', 'type', 'typic', 'título', 'ude', 'ugli', 'uhyour', 'ummm', 'un', 'unabl', 'unavail', 'unbeliev', 'uncl', 'underestim', 'understand', 'understood', 'unexpect', 'unfortun', 'unhappi', 'unhelp', 'unico', 'unimport', 'uniqu', 'unit', 'univers', 'unless', 'unlik', 'unlimit', 'unlock', 'unnannounc', 'unnecessari', 'unobtrus', 'unplug', 'unrespons', 'unsettl', 'untap', 'unus', 'unwitti', 'unwrap', 'upcom', 'updat', 'upgrad', 'upload', 'upon', 'upset', 'upstair', 'urg', 'usa', 'usabl', 'usag', 'usb', 'usd', 'use', 'useless', 'user', 'usual', 'util', 'utilización', 'vacat', 'vacuum', 'valu', 'variant', 'varieti', 'variou', 'vast', 'vehicl', 'verbal', 'vers', 'versa', 'versatil', 'version', 'versu', 'vet', 'vez', 'via', 'vibrat', 'vice', 'viceo', 'video', 'view', 'vintag', 'viola', 'virtual', 'visa', 'visibl', 'vision', 'visit', 'visual', 'vlan', 'voic', 'voiceview', 'voila', 'voltag', 'voltson', 'volum', 'vudu', 'wait', 'wake', 'walk', 'wall', 'want', 'warehous', 'warn', 'warranti', 'wasconcern', 'wasnt', 'wast', 'watch', 'water', 'wattag', 'wave', 'way', 'weak', 'wealth', 'wear', 'weari', 'weather', 'web', 'websit', 'wed', 'week', 'weekday', 'weekend', 'weekli', 'weight', 'weird', 'welcom', 'well', 'wellfour', 'went', 'what', 'whatev', 'whatsoev', 'whe', 'whenev', 'wherev', 'whether', 'whisper', 'whistl', 'white', 'who', 'whole', 'whose', 'wi', 'wide', 'widespread', 'wife', 'wifi', 'wikipedia', 'will', 'wind', 'window', 'wink', 'wireless', 'wish', 'within', 'without', 'wo', 'woke', 'woken', 'wonder', 'wont', 'woofer', 'woohoo', 'word', 'work', 'workaround', 'workout', 'workreat', 'world', 'worri', 'worst', 'worth', 'worthi', 'worthless', 'would', 'wow', 'write', 'wrong', 'xbox', 'xfiniti', 'xm', 'yale', 'yard', 'ye', 'yeah', 'year', 'yell', 'yellow', 'yep', 'yesterday', 'yet', 'yhe', 'york', 'young', 'younger', 'youngest', 'youtub', 'yr', 'yup', 'zero', 'zigbe', 'zzzz', 'zzzzzzz', 'útil']\n"
          ]
        }
      ],
      "source": [
        "from sklearn.feature_extraction.text import TfidfVectorizer\n",
        "\n",
        "vectoriser = TfidfVectorizer()\n",
        "X = vectoriser.fit_transform(reviews)\n",
        "print('TFIDF:')\n",
        "print(vectoriser.get_feature_names())"
      ]
    },
    {
      "cell_type": "code",
      "execution_count": null,
      "metadata": {
        "id": "PjpIzG8X8YOL",
        "outputId": "45c7b0ea-278f-4b9e-8ab9-25bcbc07bec0"
      },
      "outputs": [
        {
          "name": "stdout",
          "output_type": "stream",
          "text": [
            "[[0. 0. 0. ... 0. 0. 0.]\n",
            " [0. 0. 0. ... 0. 0. 0.]\n",
            " [0. 0. 0. ... 0. 0. 0.]\n",
            " ...\n",
            " [0. 0. 0. ... 0. 0. 0.]\n",
            " [0. 0. 0. ... 0. 0. 0.]\n",
            " [0. 0. 0. ... 0. 0. 0.]]\n"
          ]
        }
      ],
      "source": [
        "# TFIDF Array\n",
        "print(X.toarray())"
      ]
    },
    {
      "cell_type": "code",
      "execution_count": null,
      "metadata": {
        "id": "3Op4PNhL8YOM",
        "outputId": "5f38124a-3cbd-4c10-96bf-7369b797d4a3"
      },
      "outputs": [
        {
          "data": {
            "text/plain": [
              "(3150, 2701)"
            ]
          },
          "execution_count": 18,
          "metadata": {},
          "output_type": "execute_result"
        }
      ],
      "source": [
        "# shape of matrix formed\n",
        "X.shape"
      ]
    }
  ],
  "metadata": {
    "interpreter": {
      "hash": "b496d7c422ff408be0a1e71fc078a3f162bc7a0268e67ea9347de51a38aa16b5"
    },
    "kernelspec": {
      "display_name": "Python 3.8.5 ('base')",
      "language": "python",
      "name": "python3"
    },
    "language_info": {
      "codemirror_mode": {
        "name": "ipython",
        "version": 3
      },
      "file_extension": ".py",
      "mimetype": "text/x-python",
      "name": "python",
      "nbconvert_exporter": "python",
      "pygments_lexer": "ipython3",
      "version": "3.8.5"
    },
    "orig_nbformat": 4,
    "colab": {
      "name": "TC50_DSBDA_Assignment7(DC)_AmazonAlexa.ipynb",
      "provenance": [],
      "collapsed_sections": []
    }
  },
  "nbformat": 4,
  "nbformat_minor": 0
}